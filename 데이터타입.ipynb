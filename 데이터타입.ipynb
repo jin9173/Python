{
 "cells": [
  {
   "cell_type": "markdown",
   "metadata": {},
   "source": [
    "### 데이터 타입\n",
    "\n",
    "타입은 데이터 값을 변경할 수 있는 변수(가변)인지 혹은 변경할 수 없는 상수(불변)인지 판단한다.<br>\n",
    "하지만 파이썬은 강타입이기 때문에 타입을 변경할 수 없다.<br>\n",
    "<br>\n",
    "**부울**: True 혹은 False <br>\n",
    "**정수**: 42, 100000과 같은 숫자 <br>\n",
    "**실수**: 소수점이 있는 숫자(3.2345), 지수(1.0e8: 10의 8승) <br>\n",
    "**문자열**: 텍스트 문자들의 시퀀스 <br>\n",
    "<br>\n",
    "**변수**: 실제 데이터를 참조하는 이름 (컴퓨터 메모리에 있는 값을 참조하기 위한 이름) <br>\n",
    "**할당 연산자**: 변수에 값을 할당할 때는 `=`를 쓴다. (파이썬 표현식에서는 `=`의 오른쪽을 먼저 계산한 후 왼쪽의 변수에 계산된 값을 할당)<br><br>\n",
    "파이썬에서는 모든 것이 객체로 구현되어 있다. <br>"
   ]
  },
  {
   "cell_type": "code",
   "execution_count": 36,
   "metadata": {},
   "outputs": [
    {
     "name": "stdout",
     "output_type": "stream",
     "text": [
      "7\n",
      "7\n"
     ]
    }
   ],
   "source": [
    "a = 7 # 변수 이름 a에 값 7을 할당 (=정수 7이 담긴 객체 박스를 생성한다는 의미)\n",
    "print(a) # a값을 출력\n",
    "\n",
    "b = a # a를 b에 할당\n",
    "print(b)"
   ]
  },
  {
   "cell_type": "code",
   "execution_count": 37,
   "metadata": {},
   "outputs": [
    {
     "name": "stdout",
     "output_type": "stream",
     "text": [
      "<class 'int'>\n",
      "<class 'float'>\n",
      "<class 'str'>\n"
     ]
    }
   ],
   "source": [
    "# 리터럴 타입의 값\n",
    "a = 58\n",
    "b = 99.9\n",
    "c = 'abc'\n",
    "\n",
    "# type 내장함수: 변수 혹은 리터럴값의 타입 출력\n",
    "# class: 객체의 정의 (class와 type의 의미는 같다)\n",
    "print(type(a))\n",
    "print(type(b))\n",
    "print(type(c))"
   ]
  },
  {
   "cell_type": "markdown",
   "metadata": {},
   "source": [
    "### 변수 이름 규칙\n",
    "- 소문자(a~z)\n",
    "- 대문자(A~Z) \n",
    "- 숫자(0~9)\n",
    "- 언더스코어(_) \n",
    "\n",
    "이름은 숫자로 시작할 수 없다.<br>\n",
    "파이썬에서 언더스코어로 시작하는 이름은 특별한 방법으로 처리한다.<br>\n",
    "파이썬의 **예약어**는 변수이름으로 사용할 수 없다."
   ]
  },
  {
   "cell_type": "markdown",
   "metadata": {},
   "source": [
    "### 숫자 (Number)\n",
    "#### 수학 연산자\n",
    "- `+`: 더하기 \n",
    "- `-`: 빼기 \n",
    "- `*`: 곱하기\n",
    "- `/`: 부동소수점 나누기\n",
    "- `//`: 정수 나누기(소수점 이하 버림) - 나머지를 뺀 결과\n",
    "- `%`: 몫을 뺀 나머지\n",
    "- `**`: 지수\n",
    "\n",
    "#### 정수(integer)\n",
    ": 대화식 인터프리터에서 연속된 숫자는 리터럴 정수로 간주\n",
    "- 0 사용 가능 → 하지만 0을 다른 숫자 앞에 표기 불가\n",
    "- 양수 표현\n",
    "    - 숫자 앞에 기호가 없으면 양수를 의미\n",
    "    - 숫자 앞에 `+`를 붙임 (e.g. +123)\n",
    "- 음수 표현: 숫자 앞에 `-` 기호를 붙임"
   ]
  },
  {
   "cell_type": "code",
   "execution_count": 38,
   "metadata": {},
   "outputs": [
    {
     "ename": "ZeroDivisionError",
     "evalue": "division by zero",
     "output_type": "error",
     "traceback": [
      "\u001b[0;31m---------------------------------------------------------------------------\u001b[0m",
      "\u001b[0;31mZeroDivisionError\u001b[0m                         Traceback (most recent call last)",
      "\u001b[0;32m<ipython-input-38-da6ef18b2326>\u001b[0m in \u001b[0;36m<module>\u001b[0;34m\u001b[0m\n\u001b[1;32m      1\u001b[0m \u001b[0;31m# 0으로 나누면 예외 발생\u001b[0m\u001b[0;34m\u001b[0m\u001b[0;34m\u001b[0m\u001b[0;34m\u001b[0m\u001b[0m\n\u001b[0;32m----> 2\u001b[0;31m \u001b[0;36m5\u001b[0m \u001b[0;34m/\u001b[0m \u001b[0;36m0\u001b[0m\u001b[0;34m\u001b[0m\u001b[0;34m\u001b[0m\u001b[0m\n\u001b[0m",
      "\u001b[0;31mZeroDivisionError\u001b[0m: division by zero"
     ]
    }
   ],
   "source": [
    "# 0으로 나누면 예외 발생\n",
    "5 / 0"
   ]
  },
  {
   "cell_type": "code",
   "execution_count": 39,
   "metadata": {},
   "outputs": [
    {
     "name": "stdout",
     "output_type": "stream",
     "text": [
      "92\n",
      "95\n",
      "92\n"
     ]
    }
   ],
   "source": [
    "# 정수값이 할당된 변수와 리터럴 변수를 혼합하여 사용 가능\n",
    "a = 95\n",
    "print(a - 3)\n",
    "print(a) # a-3의 결과값을 a에 할당하지 않았으므로 a의 값은 변하지 않는다.\n",
    "\n",
    "# a값을 바꾸고 싶다면 재할당하면 된다.\n",
    "a = a - 3 # a -= 3\n",
    "print(a)"
   ]
  },
  {
   "cell_type": "code",
   "execution_count": 45,
   "metadata": {},
   "outputs": [
    {
     "data": {
      "text/plain": [
       "(1, 4)"
      ]
     },
     "execution_count": 45,
     "metadata": {},
     "output_type": "execute_result"
    }
   ],
   "source": [
    "divmod(9, 5) # 몫과 나머지를 동시에 얻는 내장함수"
   ]
  },
  {
   "cell_type": "markdown",
   "metadata": {},
   "source": [
    "#### 진수\n",
    ": 비트단위 연산에서 유용하게 쓰인다.\n",
    "- 2진수(binary): 0b 혹은 0B\n",
    "- 8진수(octal): 0o 혹은 0O\n",
    "- 16진수(hex): 0x 혹은 0X"
   ]
  },
  {
   "cell_type": "code",
   "execution_count": 55,
   "metadata": {},
   "outputs": [
    {
     "data": {
      "text/plain": [
       "10"
      ]
     },
     "execution_count": 55,
     "metadata": {},
     "output_type": "execute_result"
    }
   ],
   "source": [
    "# 10진수 출력\n",
    "10"
   ]
  },
  {
   "cell_type": "code",
   "execution_count": 56,
   "metadata": {},
   "outputs": [
    {
     "data": {
      "text/plain": [
       "2"
      ]
     },
     "execution_count": 56,
     "metadata": {},
     "output_type": "execute_result"
    }
   ],
   "source": [
    "# 2진수 10을 10진수로 출력 (2*1)+(1*0) = 2\n",
    "0b10"
   ]
  },
  {
   "cell_type": "code",
   "execution_count": 57,
   "metadata": {},
   "outputs": [
    {
     "data": {
      "text/plain": [
       "8"
      ]
     },
     "execution_count": 57,
     "metadata": {},
     "output_type": "execute_result"
    }
   ],
   "source": [
    "# 8진수 10을 10진수로 출력 (8*1)+(1*0) = 8\n",
    "0o10"
   ]
  },
  {
   "cell_type": "code",
   "execution_count": 58,
   "metadata": {},
   "outputs": [
    {
     "data": {
      "text/plain": [
       "16"
      ]
     },
     "execution_count": 58,
     "metadata": {},
     "output_type": "execute_result"
    }
   ],
   "source": [
    "# 16진수 10을 10진수로 출력 (16*1)+(1*0) = 16\n",
    "0x10"
   ]
  },
  {
   "cell_type": "markdown",
   "metadata": {},
   "source": [
    "#### 형변환\n",
    "- 정수로 형변환: `int()` (숫자만 변환가능)\n",
    "- "
   ]
  },
  {
   "cell_type": "code",
   "execution_count": 84,
   "metadata": {},
   "outputs": [
    {
     "name": "stdout",
     "output_type": "stream",
     "text": [
      "1\n",
      "0\n",
      "98\n",
      "99\n",
      "-23\n",
      "12\n",
      "10000\n"
     ]
    }
   ],
   "source": [
    "print(int(True)) # boolean\n",
    "print(int(False)) # boolean\n",
    "print(int(98.6)) # float\n",
    "print(int('99')) # string\n",
    "print(int('-23')) \n",
    "print(int('+12'))\n",
    "print(int(1.0e4)) # exponential"
   ]
  },
  {
   "cell_type": "markdown",
   "metadata": {},
   "source": [
    "`int()`함수에서 숫자가 아닌 다른 뭔가를 변환하면 예외 발생"
   ]
  },
  {
   "cell_type": "code",
   "execution_count": 85,
   "metadata": {
    "scrolled": true
   },
   "outputs": [
    {
     "ename": "ValueError",
     "evalue": "invalid literal for int() with base 10: 'Hello'",
     "output_type": "error",
     "traceback": [
      "\u001b[0;31m---------------------------------------------------------------------------\u001b[0m",
      "\u001b[0;31mValueError\u001b[0m                                Traceback (most recent call last)",
      "\u001b[0;32m<ipython-input-85-6765ce49acfe>\u001b[0m in \u001b[0;36m<module>\u001b[0;34m\u001b[0m\n\u001b[0;32m----> 1\u001b[0;31m \u001b[0mint\u001b[0m\u001b[0;34m(\u001b[0m\u001b[0;34m'Hello'\u001b[0m\u001b[0;34m)\u001b[0m\u001b[0;34m\u001b[0m\u001b[0;34m\u001b[0m\u001b[0m\n\u001b[0m",
      "\u001b[0;31mValueError\u001b[0m: invalid literal for int() with base 10: 'Hello'"
     ]
    }
   ],
   "source": [
    "int('Hello')"
   ]
  },
  {
   "cell_type": "code",
   "execution_count": 86,
   "metadata": {},
   "outputs": [
    {
     "ename": "ValueError",
     "evalue": "invalid literal for int() with base 10: ''",
     "output_type": "error",
     "traceback": [
      "\u001b[0;31m---------------------------------------------------------------------------\u001b[0m",
      "\u001b[0;31mValueError\u001b[0m                                Traceback (most recent call last)",
      "\u001b[0;32m<ipython-input-86-e4f84bb32d50>\u001b[0m in \u001b[0;36m<module>\u001b[0;34m\u001b[0m\n\u001b[0;32m----> 1\u001b[0;31m \u001b[0mint\u001b[0m\u001b[0;34m(\u001b[0m\u001b[0;34m''\u001b[0m\u001b[0;34m)\u001b[0m\u001b[0;34m\u001b[0m\u001b[0;34m\u001b[0m\u001b[0m\n\u001b[0m",
      "\u001b[0;31mValueError\u001b[0m: invalid literal for int() with base 10: ''"
     ]
    }
   ],
   "source": [
    "int('')"
   ]
  },
  {
   "cell_type": "markdown",
   "metadata": {},
   "source": [
    "`int()`함수는 부동소수점수, 혹은 숫자로 이루어진 문자열을 정수로 반환한다.<br>\n",
    "그러나 <span style=\"color: red\">소수점 혹은 지수를 포함하는 문자열은 처리하지 않는다.</span>"
   ]
  },
  {
   "cell_type": "code",
   "execution_count": 87,
   "metadata": {},
   "outputs": [
    {
     "ename": "ValueError",
     "evalue": "invalid literal for int() with base 10: '98.5'",
     "output_type": "error",
     "traceback": [
      "\u001b[0;31m---------------------------------------------------------------------------\u001b[0m",
      "\u001b[0;31mValueError\u001b[0m                                Traceback (most recent call last)",
      "\u001b[0;32m<ipython-input-87-5ccc3b6023ee>\u001b[0m in \u001b[0;36m<module>\u001b[0;34m\u001b[0m\n\u001b[0;32m----> 1\u001b[0;31m \u001b[0mint\u001b[0m\u001b[0;34m(\u001b[0m\u001b[0;34m'98.5'\u001b[0m\u001b[0;34m)\u001b[0m\u001b[0;34m\u001b[0m\u001b[0;34m\u001b[0m\u001b[0m\n\u001b[0m",
      "\u001b[0;31mValueError\u001b[0m: invalid literal for int() with base 10: '98.5'"
     ]
    }
   ],
   "source": [
    "int('98.5')"
   ]
  },
  {
   "cell_type": "code",
   "execution_count": 88,
   "metadata": {},
   "outputs": [
    {
     "ename": "ValueError",
     "evalue": "invalid literal for int() with base 10: '1.0e4'",
     "output_type": "error",
     "traceback": [
      "\u001b[0;31m---------------------------------------------------------------------------\u001b[0m",
      "\u001b[0;31mValueError\u001b[0m                                Traceback (most recent call last)",
      "\u001b[0;32m<ipython-input-88-ecb6fcf41e85>\u001b[0m in \u001b[0;36m<module>\u001b[0;34m\u001b[0m\n\u001b[0;32m----> 1\u001b[0;31m \u001b[0mint\u001b[0m\u001b[0;34m(\u001b[0m\u001b[0;34m'1.0e4'\u001b[0m\u001b[0;34m)\u001b[0m\u001b[0;34m\u001b[0m\u001b[0;34m\u001b[0m\u001b[0m\n\u001b[0m",
      "\u001b[0;31mValueError\u001b[0m: invalid literal for int() with base 10: '1.0e4'"
     ]
    }
   ],
   "source": [
    "int('1.0e4')"
   ]
  },
  {
   "cell_type": "code",
   "execution_count": 90,
   "metadata": {},
   "outputs": [
    {
     "data": {
      "text/plain": [
       "11.0"
      ]
     },
     "execution_count": 90,
     "metadata": {},
     "output_type": "execute_result"
    }
   ],
   "source": [
    "# 숫자타입을 섞어서 사용하면 파이썬은 자동으로 형변환한다.\n",
    "4 + 7.0 # int + float = float"
   ]
  },
  {
   "cell_type": "markdown",
   "metadata": {},
   "source": [
    "정수 혹은 부동소수점수와 같이 Boolean값을 계산할 때 False는 0 혹은 0.0으로, True는 1 혹은 1.0으로 간주한다."
   ]
  },
  {
   "cell_type": "code",
   "execution_count": 91,
   "metadata": {},
   "outputs": [
    {
     "name": "stdout",
     "output_type": "stream",
     "text": [
      "3\n",
      "5.0\n"
     ]
    }
   ],
   "source": [
    "print(True + 2)\n",
    "print(False + 5.0)"
   ]
  },
  {
   "cell_type": "code",
   "execution_count": null,
   "metadata": {},
   "outputs": [],
   "source": []
  }
 ],
 "metadata": {
  "kernelspec": {
   "display_name": "Python 3",
   "language": "python",
   "name": "python3"
  },
  "language_info": {
   "codemirror_mode": {
    "name": "ipython",
    "version": 3
   },
   "file_extension": ".py",
   "mimetype": "text/x-python",
   "name": "python",
   "nbconvert_exporter": "python",
   "pygments_lexer": "ipython3",
   "version": "3.7.5"
  }
 },
 "nbformat": 4,
 "nbformat_minor": 2
}
