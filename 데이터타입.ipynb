{
 "cells": [
  {
   "cell_type": "markdown",
   "metadata": {},
   "source": [
    "### 데이터 타입\n",
    "\n",
    "타입은 데이터 값을 변경할 수 있는 변수(가변)인지 혹은 변경할 수 없는 상수(불변)인지 판단한다.<br>\n",
    "하지만 파이썬은 강타입이기 때문에 타입을 변경할 수 없다.<br>\n",
    "<br>\n",
    "**부울**: True 혹은 False <br>\n",
    "**정수**: 42, 100000과 같은 숫자 <br>\n",
    "**실수**: 소수점이 있는 숫자(3.2345), 지수(1.0e8: 10의 8승) <br>\n",
    "**문자열**: 텍스트 문자들의 시퀀스 <br>\n",
    "<br>\n",
    "**변수**: 실제 데이터를 참조하는 이름 (컴퓨터 메모리에 있는 값을 참조하기 위한 이름) <br>\n",
    "**할당 연산자**: 변수에 값을 할당할 때는 `=`를 쓴다. (파이썬 표현식에서는 `=`의 오른쪽을 먼저 계산한 후 왼쪽의 변수에 계산된 값을 할당)<br><br>\n",
    "파이썬에서는 모든 것이 객체로 구현되어 있다. <br>"
   ]
  },
  {
   "cell_type": "code",
   "execution_count": 111,
   "metadata": {},
   "outputs": [
    {
     "name": "stdout",
     "output_type": "stream",
     "text": [
      "7\n",
      "7\n"
     ]
    }
   ],
   "source": [
    "a = 7 # 변수 이름 a에 값 7을 할당 (=정수 7이 담긴 객체 박스를 생성한다는 의미)\n",
    "print(a) # a값을 출력\n",
    "\n",
    "b = a # a를 b에 할당\n",
    "print(b)"
   ]
  },
  {
   "cell_type": "code",
   "execution_count": 112,
   "metadata": {},
   "outputs": [
    {
     "name": "stdout",
     "output_type": "stream",
     "text": [
      "<class 'int'>\n",
      "<class 'float'>\n",
      "<class 'str'>\n"
     ]
    }
   ],
   "source": [
    "# 리터럴 타입의 값\n",
    "a = 58\n",
    "b = 99.9\n",
    "c = 'abc'\n",
    "\n",
    "# type 내장함수: 변수 혹은 리터럴값의 타입 출력\n",
    "# class: 객체의 정의 (class와 type의 의미는 같다)\n",
    "print(type(a))\n",
    "print(type(b))\n",
    "print(type(c))"
   ]
  },
  {
   "cell_type": "markdown",
   "metadata": {},
   "source": [
    "### 변수 이름 규칙\n",
    "- 소문자(a~z)\n",
    "- 대문자(A~Z) \n",
    "- 숫자(0~9)\n",
    "- 언더스코어(_) \n",
    "\n",
    "이름은 숫자로 시작할 수 없다.<br>\n",
    "파이썬에서 언더스코어로 시작하는 이름은 특별한 방법으로 처리한다.<br>\n",
    "파이썬의 **예약어**는 변수이름으로 사용할 수 없다."
   ]
  },
  {
   "cell_type": "markdown",
   "metadata": {},
   "source": [
    "### 숫자 (Number)\n",
    "#### 수학 연산자\n",
    "- `+`: 더하기 \n",
    "- `-`: 빼기 \n",
    "- `*`: 곱하기\n",
    "- `/`: 부동소수점 나누기\n",
    "- `//`: 정수 나누기(소수점 이하 버림) - 나머지를 뺀 결과\n",
    "- `%`: 몫을 뺀 나머지\n",
    "- `**`: 지수\n",
    "\n",
    "#### 정수(integer)\n",
    ": 대화식 인터프리터에서 연속된 숫자는 리터럴 정수로 간주\n",
    "- 0 사용 가능 → 하지만 0을 다른 숫자 앞에 표기 불가\n",
    "- 양수 표현\n",
    "    - 숫자 앞에 기호가 없으면 양수를 의미\n",
    "    - 숫자 앞에 `+`를 붙임 (e.g. +123)\n",
    "- 음수 표현: 숫자 앞에 `-` 기호를 붙임\n",
    "- **형변환**: `int()` (숫자만 변환가능)"
   ]
  },
  {
   "cell_type": "code",
   "execution_count": 113,
   "metadata": {},
   "outputs": [
    {
     "ename": "ZeroDivisionError",
     "evalue": "division by zero",
     "output_type": "error",
     "traceback": [
      "\u001b[0;31m---------------------------------------------------------------------------\u001b[0m",
      "\u001b[0;31mZeroDivisionError\u001b[0m                         Traceback (most recent call last)",
      "\u001b[0;32m<ipython-input-113-da6ef18b2326>\u001b[0m in \u001b[0;36m<module>\u001b[0;34m\u001b[0m\n\u001b[1;32m      1\u001b[0m \u001b[0;31m# 0으로 나누면 예외 발생\u001b[0m\u001b[0;34m\u001b[0m\u001b[0;34m\u001b[0m\u001b[0;34m\u001b[0m\u001b[0m\n\u001b[0;32m----> 2\u001b[0;31m \u001b[0;36m5\u001b[0m \u001b[0;34m/\u001b[0m \u001b[0;36m0\u001b[0m\u001b[0;34m\u001b[0m\u001b[0;34m\u001b[0m\u001b[0m\n\u001b[0m",
      "\u001b[0;31mZeroDivisionError\u001b[0m: division by zero"
     ]
    }
   ],
   "source": [
    "# 0으로 나누면 예외 발생\n",
    "5 / 0"
   ]
  },
  {
   "cell_type": "code",
   "execution_count": 114,
   "metadata": {},
   "outputs": [
    {
     "name": "stdout",
     "output_type": "stream",
     "text": [
      "92\n",
      "95\n",
      "92\n"
     ]
    }
   ],
   "source": [
    "# 정수값이 할당된 변수와 리터럴 변수를 혼합하여 사용 가능\n",
    "a = 95\n",
    "print(a - 3)\n",
    "print(a) # a-3의 결과값을 a에 할당하지 않았으므로 a의 값은 변하지 않는다.\n",
    "\n",
    "# a값을 바꾸고 싶다면 재할당하면 된다.\n",
    "a = a - 3 # a -= 3\n",
    "print(a)"
   ]
  },
  {
   "cell_type": "code",
   "execution_count": 115,
   "metadata": {},
   "outputs": [
    {
     "data": {
      "text/plain": [
       "(1, 4)"
      ]
     },
     "execution_count": 115,
     "metadata": {},
     "output_type": "execute_result"
    }
   ],
   "source": [
    "divmod(9, 5) # 몫과 나머지를 동시에 얻는 내장함수"
   ]
  },
  {
   "cell_type": "markdown",
   "metadata": {},
   "source": [
    "#### 진수\n",
    ": 비트단위 연산에서 유용하게 쓰인다.\n",
    "- 2진수(binary): 0b 혹은 0B\n",
    "- 8진수(octal): 0o 혹은 0O\n",
    "- 16진수(hex): 0x 혹은 0X"
   ]
  },
  {
   "cell_type": "code",
   "execution_count": 116,
   "metadata": {},
   "outputs": [
    {
     "data": {
      "text/plain": [
       "10"
      ]
     },
     "execution_count": 116,
     "metadata": {},
     "output_type": "execute_result"
    }
   ],
   "source": [
    "# 10진수 출력\n",
    "10"
   ]
  },
  {
   "cell_type": "code",
   "execution_count": 117,
   "metadata": {},
   "outputs": [
    {
     "data": {
      "text/plain": [
       "2"
      ]
     },
     "execution_count": 117,
     "metadata": {},
     "output_type": "execute_result"
    }
   ],
   "source": [
    "# 2진수 10을 10진수로 출력 (2*1)+(1*0) = 2\n",
    "0b10"
   ]
  },
  {
   "cell_type": "code",
   "execution_count": 118,
   "metadata": {},
   "outputs": [
    {
     "data": {
      "text/plain": [
       "8"
      ]
     },
     "execution_count": 118,
     "metadata": {},
     "output_type": "execute_result"
    }
   ],
   "source": [
    "# 8진수 10을 10진수로 출력 (8*1)+(1*0) = 8\n",
    "0o10"
   ]
  },
  {
   "cell_type": "code",
   "execution_count": 119,
   "metadata": {},
   "outputs": [
    {
     "data": {
      "text/plain": [
       "16"
      ]
     },
     "execution_count": 119,
     "metadata": {},
     "output_type": "execute_result"
    }
   ],
   "source": [
    "# 16진수 10을 10진수로 출력 (16*1)+(1*0) = 16\n",
    "0x10"
   ]
  },
  {
   "cell_type": "code",
   "execution_count": 120,
   "metadata": {},
   "outputs": [
    {
     "name": "stdout",
     "output_type": "stream",
     "text": [
      "1\n",
      "0\n",
      "98\n",
      "99\n",
      "-23\n",
      "12\n",
      "10000\n"
     ]
    }
   ],
   "source": [
    "# 형변환\n",
    "\n",
    "print(int(True)) # boolean\n",
    "print(int(False)) # boolean\n",
    "print(int(98.6)) # float\n",
    "print(int('99')) # string\n",
    "print(int('-23')) \n",
    "print(int('+12'))\n",
    "print(int(1.0e4)) # exponential"
   ]
  },
  {
   "cell_type": "markdown",
   "metadata": {},
   "source": [
    "`int()`함수에서 숫자가 아닌 다른 뭔가를 변환하면 예외 발생"
   ]
  },
  {
   "cell_type": "code",
   "execution_count": 121,
   "metadata": {
    "scrolled": true
   },
   "outputs": [
    {
     "ename": "ValueError",
     "evalue": "invalid literal for int() with base 10: 'Hello'",
     "output_type": "error",
     "traceback": [
      "\u001b[0;31m---------------------------------------------------------------------------\u001b[0m",
      "\u001b[0;31mValueError\u001b[0m                                Traceback (most recent call last)",
      "\u001b[0;32m<ipython-input-121-6765ce49acfe>\u001b[0m in \u001b[0;36m<module>\u001b[0;34m\u001b[0m\n\u001b[0;32m----> 1\u001b[0;31m \u001b[0mint\u001b[0m\u001b[0;34m(\u001b[0m\u001b[0;34m'Hello'\u001b[0m\u001b[0;34m)\u001b[0m\u001b[0;34m\u001b[0m\u001b[0;34m\u001b[0m\u001b[0m\n\u001b[0m",
      "\u001b[0;31mValueError\u001b[0m: invalid literal for int() with base 10: 'Hello'"
     ]
    }
   ],
   "source": [
    "int('Hello')"
   ]
  },
  {
   "cell_type": "code",
   "execution_count": 122,
   "metadata": {},
   "outputs": [
    {
     "ename": "ValueError",
     "evalue": "invalid literal for int() with base 10: ''",
     "output_type": "error",
     "traceback": [
      "\u001b[0;31m---------------------------------------------------------------------------\u001b[0m",
      "\u001b[0;31mValueError\u001b[0m                                Traceback (most recent call last)",
      "\u001b[0;32m<ipython-input-122-e4f84bb32d50>\u001b[0m in \u001b[0;36m<module>\u001b[0;34m\u001b[0m\n\u001b[0;32m----> 1\u001b[0;31m \u001b[0mint\u001b[0m\u001b[0;34m(\u001b[0m\u001b[0;34m''\u001b[0m\u001b[0;34m)\u001b[0m\u001b[0;34m\u001b[0m\u001b[0;34m\u001b[0m\u001b[0m\n\u001b[0m",
      "\u001b[0;31mValueError\u001b[0m: invalid literal for int() with base 10: ''"
     ]
    }
   ],
   "source": [
    "int('')"
   ]
  },
  {
   "cell_type": "markdown",
   "metadata": {},
   "source": [
    "`int()`함수는 부동소수점수, 혹은 숫자로 이루어진 문자열을 정수로 반환한다.<br>\n",
    "그러나 <span style=\"color: red\">소수점 혹은 지수를 포함하는 문자열은 처리하지 않는다.</span>"
   ]
  },
  {
   "cell_type": "code",
   "execution_count": 123,
   "metadata": {},
   "outputs": [
    {
     "ename": "ValueError",
     "evalue": "invalid literal for int() with base 10: '98.5'",
     "output_type": "error",
     "traceback": [
      "\u001b[0;31m---------------------------------------------------------------------------\u001b[0m",
      "\u001b[0;31mValueError\u001b[0m                                Traceback (most recent call last)",
      "\u001b[0;32m<ipython-input-123-5ccc3b6023ee>\u001b[0m in \u001b[0;36m<module>\u001b[0;34m\u001b[0m\n\u001b[0;32m----> 1\u001b[0;31m \u001b[0mint\u001b[0m\u001b[0;34m(\u001b[0m\u001b[0;34m'98.5'\u001b[0m\u001b[0;34m)\u001b[0m\u001b[0;34m\u001b[0m\u001b[0;34m\u001b[0m\u001b[0m\n\u001b[0m",
      "\u001b[0;31mValueError\u001b[0m: invalid literal for int() with base 10: '98.5'"
     ]
    }
   ],
   "source": [
    "int('98.5')"
   ]
  },
  {
   "cell_type": "code",
   "execution_count": 124,
   "metadata": {},
   "outputs": [
    {
     "ename": "ValueError",
     "evalue": "invalid literal for int() with base 10: '1.0e4'",
     "output_type": "error",
     "traceback": [
      "\u001b[0;31m---------------------------------------------------------------------------\u001b[0m",
      "\u001b[0;31mValueError\u001b[0m                                Traceback (most recent call last)",
      "\u001b[0;32m<ipython-input-124-ecb6fcf41e85>\u001b[0m in \u001b[0;36m<module>\u001b[0;34m\u001b[0m\n\u001b[0;32m----> 1\u001b[0;31m \u001b[0mint\u001b[0m\u001b[0;34m(\u001b[0m\u001b[0;34m'1.0e4'\u001b[0m\u001b[0;34m)\u001b[0m\u001b[0;34m\u001b[0m\u001b[0;34m\u001b[0m\u001b[0m\n\u001b[0m",
      "\u001b[0;31mValueError\u001b[0m: invalid literal for int() with base 10: '1.0e4'"
     ]
    }
   ],
   "source": [
    "int('1.0e4')"
   ]
  },
  {
   "cell_type": "code",
   "execution_count": 125,
   "metadata": {},
   "outputs": [
    {
     "data": {
      "text/plain": [
       "11.0"
      ]
     },
     "execution_count": 125,
     "metadata": {},
     "output_type": "execute_result"
    }
   ],
   "source": [
    "# 숫자타입을 섞어서 사용하면 파이썬은 자동으로 형변환한다.\n",
    "4 + 7.0 # int + float = float"
   ]
  },
  {
   "cell_type": "markdown",
   "metadata": {},
   "source": [
    "정수 혹은 부동소수점수와 같이 Boolean값을 계산할 때 False는 0 혹은 0.0으로, True는 1 혹은 1.0으로 간주한다."
   ]
  },
  {
   "cell_type": "code",
   "execution_count": 126,
   "metadata": {},
   "outputs": [
    {
     "name": "stdout",
     "output_type": "stream",
     "text": [
      "3\n",
      "5.0\n"
     ]
    }
   ],
   "source": [
    "print(True + 2)\n",
    "print(False + 5.0)"
   ]
  },
  {
   "cell_type": "markdown",
   "metadata": {},
   "source": [
    "#### 부동소수점수 (float)\n",
    "- `+`, `-`, `/`, `//`, `**`, `%` 연산과 `divmod()`함수 사용 가능\n",
    "- **형변환**: `float()`"
   ]
  },
  {
   "cell_type": "code",
   "execution_count": 127,
   "metadata": {},
   "outputs": [
    {
     "name": "stdout",
     "output_type": "stream",
     "text": [
      "1.0\n",
      "0.0\n",
      "98.0\n",
      "99.0\n",
      "98.6\n",
      "-1.5\n",
      "10000.0\n"
     ]
    }
   ],
   "source": [
    "# 형변환\n",
    "print(float(True))\n",
    "print(float(False))\n",
    "print(float(98))\n",
    "print(float('99'))\n",
    "print(float('98.6'))\n",
    "print(float('-1.5'))\n",
    "print(float('1.0e4'))"
   ]
  },
  {
   "cell_type": "markdown",
   "metadata": {},
   "source": [
    "#### 문자열 (string)\n",
    "- Sequence 타입 (iterable 객체)\n",
    "- 불변(immutable) 객체\n",
    "- `' '`, `\" \"`, `''' '''`, `\"\"\" \"\"\"`\n",
    "- **형변환**: `str()`\n",
    "- 이스케이프 문자: `\\n`, `\\t`, `\\`, `\\\\`\n",
    "- `+`: 리터럴 문자열 또는 문자열 변수를 결합\n",
    "- `*`: 문자열 복제\n",
    "- 문자 추출: `문자열이름[오프셋]`\n",
    "- 인덱싱\n",
    "- 슬라이싱: `문자열객체[start:end:step]` (끝 오프셋은 실제 오프셋 + 1)\n",
    "\n",
    "#### 문자열을 다루는 메소드\n",
    "- `len()`: 문자열 길이 (다른 시퀀스타입에서도 사용 가능)\n",
    "- `'추가할 구분자' + join(문자열객체)`: 문자열 리스트를 하나의 문자열로 결합 <br>\n",
    "\n",
    "<span style=\"color: red;\">문자열객체 안의 문자열이..</span><br>\n",
    "- `문자열객체.split('구분자')`: 어떤 문자열을 기준으로 하나의 문자열을 작은 문자열들의 리스트로 나누기\n",
    "- `문자열객체.replace('바꿀문자열','대체할 새문자열','바꿀문자열에 대한 횟수')`: 문자열 일부를 대체 (대체하고 싶은 문자열이 전체 단어인지, 한 단어의 시작의 일부인지 등의 특수한 조건이 있다면 **정규표현식**을 사용)\n",
    "- `문자열객체.startswith('문자열')`: '문자열'로 시작하는가? (불린값 반환)\n",
    "- `문자열객체.endswith('문자열')`: '문자열'로 끝나는가? (불린값 반환)\n",
    "- `문자열객체.find('문자열')`: 첫번째로 '문자열'이 나오는 오프셋은?\n",
    "- `문자열객체.rfind('문자열')`: 마지막으로 '문자열'이 나오는 오프셋은?\n",
    "- `문자열객체.count('문자열')`: '문자열'은 몇번 나오는가?\n",
    "- `문자열객체.isalnum()`: 문자와 숫자로만 이루어져 있는가? (불린값 반환)\n",
    "- `문자열객체.strip('삭제할 문자')`: '삭제할 문자'(시퀀스)를 양끝에서 삭제\n",
    "- `문자열객체.capitalize()`: 첫번째 단어를 대문자화\n",
    "- `문자열객체.title()`: 모든 단어의 첫 글자를 대문자화\n",
    "- `문자열객체.upper()`: 모든 글자를 대문자화\n",
    "- `문자열객체.lower()`: 모든 글자를 소문자화\n",
    "- `문자열객체.swapcase()`: 대문자는 소문자화, 소문자는 대문자화\n",
    "- `문자열객체.center(지정한 공간)`: 문자열을 지정한 공간에서 중앙에 배치 (e.g. `setup.center(30)`)\n",
    "- `문자열객체.ljust(지정한 공간)`: 문자열을 지정한 공간에서 왼쪽에 배치\n",
    "- `문자열객체.rjust(지정한 공간)`: 문자열을 지정한 공간에서 오른쪽에 배치"
   ]
  },
  {
   "cell_type": "code",
   "execution_count": 166,
   "metadata": {},
   "outputs": [
    {
     "name": "stdout",
     "output_type": "stream",
     "text": [
      "'Nay', said the naysyer.\n",
      "Hello, my name is \"Sejin Kim\"\n"
     ]
    }
   ],
   "source": [
    "# 단일 인용 부호의 문자열을 이중 인용 부호에 넣거나, 이중 인용 부호의 문자열을 단일 인용 부호에 넣을 수 있다.\n",
    "print(\"'Nay', said the naysyer.\")\n",
    "print('Hello, my name is \"Sejin Kim\"')"
   ]
  },
  {
   "cell_type": "code",
   "execution_count": 129,
   "metadata": {},
   "outputs": [
    {
     "name": "stdout",
     "output_type": "stream",
     "text": [
      "There was a Young Lady of Norway,\n",
      "        Who casually sat in a doorway; \n",
      "When the door squeezed her flat,\n",
      "She exclaimed, \"What of that?\"\n",
      "This courages Young Lady of Norway.\n"
     ]
    }
   ],
   "source": [
    "# 세개의 단일 인용 부호는 여러 줄의 문자열에 사용 (공백 허용: 두번째 줄)\n",
    "print('''There was a Young Lady of Norway,\n",
    "        Who casually sat in a doorway; \n",
    "When the door squeezed her flat,\n",
    "She exclaimed, \"What of that?\"\n",
    "This courages Young Lady of Norway.''')"
   ]
  },
  {
   "cell_type": "code",
   "execution_count": 130,
   "metadata": {},
   "outputs": [
    {
     "name": "stdout",
     "output_type": "stream",
     "text": [
      "current inventory: 99\n"
     ]
    }
   ],
   "source": [
    "# 빈문자열을 이용하면 여러 문자열을 한 문자열로 합칠 때 문자열 사이에 공백을 입력할 수 있어 유용하다.\n",
    "bottle = 99\n",
    "base = ''\n",
    "base += 'current inventory: '\n",
    "base += str(bottle)\n",
    "\n",
    "print(base)"
   ]
  },
  {
   "cell_type": "code",
   "execution_count": 131,
   "metadata": {},
   "outputs": [
    {
     "name": "stdout",
     "output_type": "stream",
     "text": [
      "98.6\n",
      "10000.0\n",
      "True\n"
     ]
    }
   ],
   "source": [
    "# 문자열로 형변환\n",
    "print(str(98.6))\n",
    "print(str(1.0e4))\n",
    "print(str(True))"
   ]
  },
  {
   "cell_type": "markdown",
   "metadata": {},
   "source": [
    "#### 이스케이프 문자"
   ]
  },
  {
   "cell_type": "code",
   "execution_count": 132,
   "metadata": {},
   "outputs": [
    {
     "name": "stdout",
     "output_type": "stream",
     "text": [
      "A man, \n",
      "A plan, \n",
      "A canal: \n",
      "Panama.\n"
     ]
    }
   ],
   "source": [
    "# \\n: 한줄의 문자열을 여러 줄의 문자열로 바꿀 수 있다.\n",
    "palindorme = 'A man, \\nA plan, \\nA canal: \\nPanama.'\n",
    "print(palindorme)"
   ]
  },
  {
   "cell_type": "code",
   "execution_count": 133,
   "metadata": {},
   "outputs": [
    {
     "name": "stdout",
     "output_type": "stream",
     "text": [
      "\tabc\n",
      "a\tbc\n",
      "abc\t\n"
     ]
    }
   ],
   "source": [
    "# \\t: 텍스트 공백에 사용\n",
    "print('\\tabc')\n",
    "print('a\\tbc')\n",
    "print('abc\\t')"
   ]
  },
  {
   "cell_type": "code",
   "execution_count": 134,
   "metadata": {},
   "outputs": [
    {
     "name": "stdout",
     "output_type": "stream",
     "text": [
      "\"I did nothing!\" he said. \"Not that either! Or the other thing.\"\n"
     ]
    }
   ],
   "source": [
    "# \\: 단일 또는 이중부호를 표현 가능\n",
    "testimony = \"\\\"I did nothing!\\\" he said. \\\"Not that either! Or the other thing.\\\"\"\n",
    "print(testimony)"
   ]
  },
  {
   "cell_type": "code",
   "execution_count": 135,
   "metadata": {},
   "outputs": [
    {
     "name": "stdout",
     "output_type": "stream",
     "text": [
      "Today we honor our friend, the backslash: \\.\n"
     ]
    }
   ],
   "source": [
    "# \\\\: 백슬래쉬를 입력하고 싶으면 백슬래쉬를 두번 입력\n",
    "speech = 'Today we honor our friend, the backslash: \\\\.'\n",
    "print(speech)"
   ]
  },
  {
   "cell_type": "markdown",
   "metadata": {},
   "source": [
    "파이썬은 문자열을 결합할 때 공백을 자동으로 붙이지 않는다. 그래서 명시적으로 공백을 넣어주어야 한다."
   ]
  },
  {
   "cell_type": "code",
   "execution_count": 136,
   "metadata": {},
   "outputs": [
    {
     "name": "stdout",
     "output_type": "stream",
     "text": [
      "Release the kraken! At once!\n",
      "My world! A gentleman caller!\n"
     ]
    }
   ],
   "source": [
    "# 문자열 +연산자로 결합\n",
    "a = 'Release the kraken! ' + 'At once!'\n",
    "print(a)\n",
    "\n",
    "# 리터럴 문자열의 결합\n",
    "print(\"My world! \" \"A gentleman caller!\")"
   ]
  },
  {
   "cell_type": "code",
   "execution_count": 137,
   "metadata": {},
   "outputs": [
    {
     "name": "stdout",
     "output_type": "stream",
     "text": [
      "Na Na Na Na \n",
      "Na Na Na Na \n",
      "Hey Hey Hey \n",
      "Goodbye\n"
     ]
    }
   ],
   "source": [
    "# 문자열 복제\n",
    "start = 'Na ' * 4 + '\\n'\n",
    "middle = 'Hey ' * 3 + '\\n'\n",
    "end = 'Goodbye'\n",
    "\n",
    "print(start + start + middle + end)"
   ]
  },
  {
   "cell_type": "code",
   "execution_count": 138,
   "metadata": {},
   "outputs": [
    {
     "name": "stdout",
     "output_type": "stream",
     "text": [
      "a\n",
      "c\n",
      "n\n",
      "m\n"
     ]
    },
    {
     "ename": "IndexError",
     "evalue": "string index out of range",
     "output_type": "error",
     "traceback": [
      "\u001b[0;31m---------------------------------------------------------------------------\u001b[0m",
      "\u001b[0;31mIndexError\u001b[0m                                Traceback (most recent call last)",
      "\u001b[0;32m<ipython-input-138-2394b6ecbb74>\u001b[0m in \u001b[0;36m<module>\u001b[0;34m\u001b[0m\n\u001b[1;32m      7\u001b[0m \u001b[0mprint\u001b[0m\u001b[0;34m(\u001b[0m\u001b[0mletters\u001b[0m\u001b[0;34m[\u001b[0m\u001b[0;34m-\u001b[0m\u001b[0;36m2\u001b[0m\u001b[0;34m]\u001b[0m\u001b[0;34m)\u001b[0m\u001b[0;34m\u001b[0m\u001b[0;34m\u001b[0m\u001b[0m\n\u001b[1;32m      8\u001b[0m \u001b[0;34m\u001b[0m\u001b[0m\n\u001b[0;32m----> 9\u001b[0;31m \u001b[0mprint\u001b[0m\u001b[0;34m(\u001b[0m\u001b[0mletters\u001b[0m\u001b[0;34m[\u001b[0m\u001b[0;36m100\u001b[0m\u001b[0;34m]\u001b[0m\u001b[0;34m)\u001b[0m\u001b[0;34m\u001b[0m\u001b[0;34m\u001b[0m\u001b[0m\n\u001b[0m",
      "\u001b[0;31mIndexError\u001b[0m: string index out of range"
     ]
    }
   ],
   "source": [
    "# 문자 추출\n",
    "letters = 'abcdefghijklmn'\n",
    "\n",
    "print(letters[0])\n",
    "print(letters[2])\n",
    "print(letters[-1])\n",
    "print(letters[-2])\n",
    "\n",
    "print(letters[100])"
   ]
  },
  {
   "cell_type": "code",
   "execution_count": 139,
   "metadata": {},
   "outputs": [
    {
     "ename": "TypeError",
     "evalue": "'str' object does not support item assignment",
     "output_type": "error",
     "traceback": [
      "\u001b[0;31m---------------------------------------------------------------------------\u001b[0m",
      "\u001b[0;31mTypeError\u001b[0m                                 Traceback (most recent call last)",
      "\u001b[0;32m<ipython-input-139-242bba549bbc>\u001b[0m in \u001b[0;36m<module>\u001b[0;34m\u001b[0m\n\u001b[1;32m      1\u001b[0m \u001b[0;31m# 문자열은 불변하기 때문에 특정 인덱스에 문자를 삽입하거나 변경할 수 없다\u001b[0m\u001b[0;34m\u001b[0m\u001b[0;34m\u001b[0m\u001b[0;34m\u001b[0m\u001b[0m\n\u001b[1;32m      2\u001b[0m \u001b[0mname\u001b[0m \u001b[0;34m=\u001b[0m \u001b[0;34m'Henny'\u001b[0m\u001b[0;34m\u001b[0m\u001b[0;34m\u001b[0m\u001b[0m\n\u001b[0;32m----> 3\u001b[0;31m \u001b[0mname\u001b[0m\u001b[0;34m[\u001b[0m\u001b[0;36m0\u001b[0m\u001b[0;34m]\u001b[0m \u001b[0;34m=\u001b[0m \u001b[0;34m'P'\u001b[0m\u001b[0;34m\u001b[0m\u001b[0;34m\u001b[0m\u001b[0m\n\u001b[0m\u001b[1;32m      4\u001b[0m \u001b[0;34m\u001b[0m\u001b[0m\n\u001b[1;32m      5\u001b[0m \u001b[0mprint\u001b[0m\u001b[0;34m(\u001b[0m\u001b[0mname\u001b[0m\u001b[0;34m)\u001b[0m\u001b[0;34m\u001b[0m\u001b[0;34m\u001b[0m\u001b[0m\n",
      "\u001b[0;31mTypeError\u001b[0m: 'str' object does not support item assignment"
     ]
    }
   ],
   "source": [
    "# 문자열은 불변하기 때문에 특정 인덱스에 문자를 삽입하거나 변경할 수 없다\n",
    "name = 'Henny'\n",
    "name[0] = 'P'\n",
    "\n",
    "print(name)"
   ]
  },
  {
   "cell_type": "code",
   "execution_count": 140,
   "metadata": {},
   "outputs": [
    {
     "name": "stdout",
     "output_type": "stream",
     "text": [
      "Penny\n",
      "Henny\n"
     ]
    }
   ],
   "source": [
    "# replace()로 특정 문자 변환\n",
    "name = 'Henny'\n",
    "\n",
    "print(name.replace('H', 'P'))\n",
    "print(name) # 원본 객체는 변경되지 않는다"
   ]
  },
  {
   "cell_type": "code",
   "execution_count": 141,
   "metadata": {},
   "outputs": [
    {
     "name": "stdout",
     "output_type": "stream",
     "text": [
      "Penny\n"
     ]
    }
   ],
   "source": [
    "# 슬라이스로 특정 문자 변환\n",
    "name = 'Henny'\n",
    "\n",
    "print('P' + name[1:])"
   ]
  },
  {
   "cell_type": "code",
   "execution_count": 142,
   "metadata": {},
   "outputs": [
    {
     "name": "stdout",
     "output_type": "stream",
     "text": [
      "abcdefghijklmnopqrstuvwxyz\n",
      "uvwxyz\n",
      "klmnopqrstuvwxyz\n",
      "mno\n",
      "xyz\n",
      "stuvw\n",
      "uvwx\n",
      "ehknqt\n",
      "tx\n",
      "afkpu\n"
     ]
    }
   ],
   "source": [
    "letters = 'abcdefghijklmnopqrstuvwxyz'\n",
    "\n",
    "print(letters[:])\n",
    "print(letters[20:])\n",
    "print(letters[10:])\n",
    "\n",
    "print(letters[12:15])\n",
    "print(letters[-3:])\n",
    "print(letters[18:-3])\n",
    "print(letters[-6:-2])\n",
    "\n",
    "print(letters[4:20:3])\n",
    "print(letters[19::4])\n",
    "print(letters[:21:5])"
   ]
  },
  {
   "cell_type": "code",
   "execution_count": 144,
   "metadata": {},
   "outputs": [
    {
     "name": "stdout",
     "output_type": "stream",
     "text": [
      "5\n"
     ]
    }
   ],
   "source": [
    "# 문자열 길이 len()\n",
    "greeting = 'Hello'\n",
    "\n",
    "print(len(greeting))"
   ]
  },
  {
   "cell_type": "code",
   "execution_count": 145,
   "metadata": {},
   "outputs": [
    {
     "name": "stdout",
     "output_type": "stream",
     "text": [
      "['get gloves', 'get mask', 'gibe cat vitamins', 'call ambulance']\n"
     ]
    }
   ],
   "source": [
    "# 문자열 나누기 split('구분자')\n",
    "todos = 'get gloves,get mask,gibe cat vitamins,call ambulance'\n",
    "_todos = todos.split(',')\n",
    "\n",
    "print(_todos)"
   ]
  },
  {
   "cell_type": "code",
   "execution_count": 147,
   "metadata": {},
   "outputs": [
    {
     "name": "stdout",
     "output_type": "stream",
     "text": [
      "['get', 'gloves,get', 'mask,gibe', 'cat', 'vitamins,call', 'ambulance']\n"
     ]
    }
   ],
   "source": [
    "# split()함수 사용시 구분자를 지정하지 않으면 문자열에 등장하는 공백문자를 사용\n",
    "print(todos.split())"
   ]
  },
  {
   "cell_type": "code",
   "execution_count": 149,
   "metadata": {},
   "outputs": [
    {
     "name": "stdout",
     "output_type": "stream",
     "text": [
      "Found and signing book deals: Yeti, Bigfoot, Loch Ness Monster\n"
     ]
    }
   ],
   "source": [
    "# 결합할 문자열을 지정한 다음 문자열 리스트를 결합\n",
    "crypto_list = ['Yeti', 'Bigfoot', 'Loch Ness Monster']\n",
    "crypto_string = ', '.join(crypto_list)\n",
    "\n",
    "print('Found and signing book deals:', crypto_string)"
   ]
  },
  {
   "cell_type": "code",
   "execution_count": 156,
   "metadata": {},
   "outputs": [
    {
     "name": "stdout",
     "output_type": "stream",
     "text": [
      "All that doth\n",
      "252\n",
      "True\n",
      "False\n"
     ]
    }
   ],
   "source": [
    "poem = '''All that doth flow we cannot liquid name\n",
    "Or else would fire and water be the same;\n",
    "But that is liquid which is moist and wet\n",
    "Fire that property can never get.\n",
    "Then 'tis not cold that doth the fire put out\n",
    "But 'tis the wet that makes it die, no doubte. '''\n",
    "\n",
    "print(poem[:13]) # 처음부터 12번째 자 출력\n",
    "print(len(poem)) # 스페이스와 줄바꿈을 포함하여 이 시의 글자 수\n",
    "print(poem.startswith('All')) # 이 시는 All로 시작하는가?\n",
    "print(poem.endswith('That\\'s all, folks!')) # 이 시는 That's all, folks!로 끝나는가?"
   ]
  },
  {
   "cell_type": "code",
   "execution_count": 162,
   "metadata": {},
   "outputs": [
    {
     "name": "stdout",
     "output_type": "stream",
     "text": [
      "73\n",
      "214\n",
      "3\n",
      "False\n"
     ]
    }
   ],
   "source": [
    "word = 'the'\n",
    "print(poem.find(word)) # 이 시에서 첫 번째로 the가 나오는 오프셋은?\n",
    "print(poem.rfind(word)) # 이 시에서 마지막으로 the가 나오는 오프셋은?\n",
    "print(poem.count(word)) # 세글자 the가 몇 번 나오는가?\n",
    "print(poem.isalnum()) # 이 시는 글자와 숫자로만 이루어져 있는가?"
   ]
  },
  {
   "cell_type": "code",
   "execution_count": 177,
   "metadata": {},
   "outputs": [
    {
     "name": "stdout",
     "output_type": "stream",
     "text": [
      "a duck goes into a bar\n",
      "A duck goes into a bar...\n",
      "A Duck Goes Into A Bar...\n",
      "A DUCK GOES INTO A BAR...\n",
      "a duck goes into a bar...\n",
      "A DUCK GOES INTO A BAR...\n",
      "  a duck goes into a bar...   \n",
      "a duck goes into a bar...     \n",
      "     a duck goes into a bar...\n"
     ]
    }
   ],
   "source": [
    "# 대소문자와 배치\n",
    "setup = 'a duck goes into a bar...'\n",
    "\n",
    "_setup = setup.strip('.')\n",
    "print(_setup)\n",
    "\n",
    "setup_capitalize = setup.capitalize()\n",
    "print(setup_capitalize)\n",
    "\n",
    "setup_title = setup.title()\n",
    "print(setup_title)\n",
    "\n",
    "setup_upper = setup.upper()\n",
    "print(setup_upper)\n",
    "\n",
    "setup_lower = setup.lower()\n",
    "print(setup_lower)\n",
    "\n",
    "setup_swapcase = setup.swapcase()\n",
    "print(setup_swapcase)\n",
    "\n",
    "setup_center = setup.center(30)\n",
    "print(setup_center)\n",
    "\n",
    "setup_ljust = setup.ljust(30)\n",
    "print(setup_ljust)\n",
    "\n",
    "setup_rjust = setup.rjust(30)\n",
    "print(setup_rjust)"
   ]
  },
  {
   "cell_type": "code",
   "execution_count": 179,
   "metadata": {},
   "outputs": [
    {
     "name": "stdout",
     "output_type": "stream",
     "text": [
      "a marmoset goes into a bar...\n"
     ]
    }
   ],
   "source": [
    "# 문자열 대체 replace()\n",
    "setup = 'a duck goes into a bar...'\n",
    "\n",
    "_setup = setup.replace('duck', 'marmoset')\n",
    "print(_setup)"
   ]
  },
  {
   "cell_type": "code",
   "execution_count": 180,
   "metadata": {},
   "outputs": [
    {
     "name": "stdout",
     "output_type": "stream",
     "text": [
      "a famous duck goes into a famous bar...\n"
     ]
    }
   ],
   "source": [
    "_setup = setup.replace('a ', 'a famous ', 100)\n",
    "print(_setup)"
   ]
  },
  {
   "cell_type": "code",
   "execution_count": null,
   "metadata": {},
   "outputs": [],
   "source": []
  }
 ],
 "metadata": {
  "kernelspec": {
   "display_name": "Python 3",
   "language": "python",
   "name": "python3"
  },
  "language_info": {
   "codemirror_mode": {
    "name": "ipython",
    "version": 3
   },
   "file_extension": ".py",
   "mimetype": "text/x-python",
   "name": "python",
   "nbconvert_exporter": "python",
   "pygments_lexer": "ipython3",
   "version": "3.7.5"
  }
 },
 "nbformat": 4,
 "nbformat_minor": 2
}
