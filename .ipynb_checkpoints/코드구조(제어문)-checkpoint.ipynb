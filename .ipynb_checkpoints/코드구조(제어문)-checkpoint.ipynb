{
 "cells": [
  {
   "cell_type": "markdown",
   "metadata": {},
   "source": [
    "#### 라인유지 `\\`\n",
    ": 라인끝에 `\\`을 입력하면 다음 라인을 여전히 같은 라인으로 인식"
   ]
  },
  {
   "cell_type": "code",
   "execution_count": 1,
   "metadata": {},
   "outputs": [
    {
     "name": "stdout",
     "output_type": "stream",
     "text": [
      "abcdefghijklmnopqrstuvwxyz\n"
     ]
    }
   ],
   "source": [
    "alphabet = ''\n",
    "alphabet += 'abcdefg'\n",
    "alphabet += 'hijklmn'\n",
    "alphabet += 'opqrstu'\n",
    "alphabet += 'vwxyz'\n",
    "\n",
    "print(alphabet)"
   ]
  },
  {
   "cell_type": "code",
   "execution_count": 2,
   "metadata": {},
   "outputs": [
    {
     "name": "stdout",
     "output_type": "stream",
     "text": [
      "abcdefghigklmnopqrstuvwxyz\n"
     ]
    }
   ],
   "source": [
    "alphabet = 'abcdefg' + \\\n",
    "'higklmn' + \\\n",
    "'opqrstu' + \\\n",
    "'vwxyz'\n",
    "\n",
    "print(alphabet)"
   ]
  },
  {
   "cell_type": "markdown",
   "metadata": {},
   "source": [
    "# if문\n",
    ": if, else는 조건이 참(True)인지 거짓(False)인지 확인하는 파이썬의 선언문\n",
    "\n",
    "### 비교 연산자\n",
    ": `==`, `!=`, `<`, `<=`, `>`, `>=`, `in`(멤버십) (Boolean값을 반환)\n",
    "\n",
    "### False값\n",
    ": `null`, `0`, `0.0`, `''`, `[]`, `()`, `{}`, `set()`"
   ]
  },
  {
   "cell_type": "code",
   "execution_count": 4,
   "metadata": {},
   "outputs": [
    {
     "name": "stdout",
     "output_type": "stream",
     "text": [
      "Woe!\n"
     ]
    }
   ],
   "source": [
    "# 부울 변수 disaster에 True를 할당\n",
    "disaster = True\n",
    "\n",
    "# if와 else를 사용해서 조건테스트 수행\n",
    "# disaster값에 따라 다른 코드가 실행됨\n",
    "if disaster:\n",
    "    # 텍스트를 출력하기 위해 print()함수 호출\n",
    "    print('Woe!')\n",
    "else:\n",
    "    print('Whee!')"
   ]
  },
  {
   "cell_type": "code",
   "execution_count": 5,
   "metadata": {},
   "outputs": [
    {
     "name": "stdout",
     "output_type": "stream",
     "text": [
      "It's a cat\n"
     ]
    }
   ],
   "source": [
    "furry = True\n",
    "small = True\n",
    "if furry:\n",
    "    if small:\n",
    "        print(\"It's a cat\")\n",
    "    else: \n",
    "        print(\"It's a bear!\")\n",
    "else:\n",
    "    if small:\n",
    "        print(\"It's a skink!\")\n",
    "    else:\n",
    "        print(\"It's a human. Or a hairless bear\")"
   ]
  },
  {
   "cell_type": "markdown",
   "metadata": {},
   "source": [
    "#### 비교연산자"
   ]
  },
  {
   "cell_type": "code",
   "execution_count": 7,
   "metadata": {},
   "outputs": [
    {
     "name": "stdout",
     "output_type": "stream",
     "text": [
      "I've never heard of the color puce\n"
     ]
    }
   ],
   "source": [
    "color = 'puce'\n",
    "if color == 'red':\n",
    "    print(\"It's a tomato\")\n",
    "elif color == 'green':\n",
    "    print(\"It's a green pepper\")\n",
    "elif color == 'bee purple':\n",
    "    print(\"I don't know what it is, but only bees can see it\")\n",
    "else:\n",
    "    print(\"I've never heard of the color\", color)"
   ]
  },
  {
   "cell_type": "code",
   "execution_count": 10,
   "metadata": {},
   "outputs": [
    {
     "data": {
      "text/plain": [
       "False"
      ]
     },
     "execution_count": 10,
     "metadata": {},
     "output_type": "execute_result"
    }
   ],
   "source": [
    "x = 10\n",
    "5 < x and x < 10 # True and False = False"
   ]
  },
  {
   "cell_type": "code",
   "execution_count": 11,
   "metadata": {},
   "outputs": [
    {
     "data": {
      "text/plain": [
       "False"
      ]
     },
     "execution_count": 11,
     "metadata": {},
     "output_type": "execute_result"
    }
   ],
   "source": [
    "5 < x < 10"
   ]
  },
  {
   "cell_type": "code",
   "execution_count": 12,
   "metadata": {},
   "outputs": [
    {
     "data": {
      "text/plain": [
       "False"
      ]
     },
     "execution_count": 12,
     "metadata": {},
     "output_type": "execute_result"
    }
   ],
   "source": [
    "5 < x < 10 < 999"
   ]
  },
  {
   "cell_type": "markdown",
   "metadata": {},
   "source": [
    "#### Truthiness and Falsiness"
   ]
  },
  {
   "cell_type": "code",
   "execution_count": 13,
   "metadata": {},
   "outputs": [
    {
     "name": "stdout",
     "output_type": "stream",
     "text": [
      "Hey, it's empty!\n"
     ]
    }
   ],
   "source": [
    "some_list = [] # False\n",
    "\n",
    "if some_list:\n",
    "    print(\"There's something in here\")\n",
    "else:\n",
    "    print(\"Hey, it's empty!\")"
   ]
  },
  {
   "cell_type": "markdown",
   "metadata": {},
   "source": [
    "# 반복문\n",
    "## While문\n",
    ": 루핑 매커니즘 (Looping Mechanism)\n",
    "#### 중단하기 `break`\n",
    ": 무한루프 속에 `break`문을 사용해서 빠져나온다.\n",
    "#### 건너뛰기 `continue`\n",
    ": 다음 루프로 건너뛰고 싶을 때 `continue`사용\n",
    "## for문\n",
    ": 자료구조를 순회 (데이터 스트림 처리 허용)"
   ]
  },
  {
   "cell_type": "code",
   "execution_count": 16,
   "metadata": {},
   "outputs": [
    {
     "name": "stdout",
     "output_type": "stream",
     "text": [
      "1\n",
      "2\n",
      "3\n",
      "4\n",
      "5\n"
     ]
    }
   ],
   "source": [
    "count = 1\n",
    "\n",
    "while count <= 5:\n",
    "    print(count)\n",
    "    count += 1"
   ]
  },
  {
   "cell_type": "markdown",
   "metadata": {},
   "source": [
    "#### break와 continue"
   ]
  },
  {
   "cell_type": "code",
   "execution_count": 17,
   "metadata": {},
   "outputs": [
    {
     "name": "stdout",
     "output_type": "stream",
     "text": [
      "String to capitalize [type q to quit]:test\n",
      "Test\n",
      "String to capitalize [type q to quit]:hello\n",
      "Hello\n",
      "String to capitalize [type q to quit]:yes\n",
      "Yes\n",
      "String to capitalize [type q to quit]:no\n",
      "No\n",
      "String to capitalize [type q to quit]:q\n"
     ]
    }
   ],
   "source": [
    "while True:\n",
    "    stuff = input(\"String to capitalize [type q to quit]:\")\n",
    "    if stuff == 'q':\n",
    "        break\n",
    "    print(stuff.capitalize())"
   ]
  },
  {
   "cell_type": "code",
   "execution_count": null,
   "metadata": {},
   "outputs": [],
   "source": [
    "while True:\n",
    "    value = input(\"Integer, please [q to quit]:\")\n",
    "    if value == 'q':\n",
    "        break\n",
    "    number = int(value)\n",
    "    if number % 2 == 0:\n",
    "        continue\n",
    "    print(number, \"squared is\", number*number)"
   ]
  },
  {
   "cell_type": "markdown",
   "metadata": {},
   "source": [
    "#### for문"
   ]
  },
  {
   "cell_type": "code",
   "execution_count": null,
   "metadata": {},
   "outputs": [],
   "source": [
    "rabbits = ['Flopsy', 'Mopsy', 'Cottontail', 'Peter']\n",
    "current = 0\n",
    "\n",
    "while current < len(rabbits):\n",
    "    print(rabbits[current])\n",
    "    current += 1"
   ]
  },
  {
   "cell_type": "code",
   "execution_count": null,
   "metadata": {},
   "outputs": [],
   "source": []
  }
 ],
 "metadata": {
  "kernelspec": {
   "display_name": "Python 3",
   "language": "python",
   "name": "python3"
  },
  "language_info": {
   "codemirror_mode": {
    "name": "ipython",
    "version": 3
   },
   "file_extension": ".py",
   "mimetype": "text/x-python",
   "name": "python",
   "nbconvert_exporter": "python",
   "pygments_lexer": "ipython3",
   "version": "3.7.5"
  }
 },
 "nbformat": 4,
 "nbformat_minor": 2
}
