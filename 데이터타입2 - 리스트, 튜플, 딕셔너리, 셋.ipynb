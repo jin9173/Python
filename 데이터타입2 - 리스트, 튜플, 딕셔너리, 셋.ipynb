{
 "cells": [
  {
   "cell_type": "markdown",
   "metadata": {},
   "source": [
    "# 리스트와 튜플\n",
    "파이썬은 두 가지 다른 시퀀스 타입의 데이터가 있는데 이는 **튜플(tuple)과 리스트(list)**이다.<br>\n",
    "이 구조에는 0 혹은 그 이상의 항목이 포함되어있고, 이들 항목은 다른 타입이 될 수 있다. 즉, 각 요소는 어떤 객체도 될 수 있다.<br>\n",
    "<span style=\"color: red;\">튜플은 불변(immutable)하고, 리스트는 변경가능(mutable)하다.</span>\n",
    "\n",
    "## 리스트 (List)\n",
    ": 데이터를 순차적으로 파악하는데 유용 (다른 타입의 요소도 포함 가능)\n",
    "- 리스트 생성: `[]`, `list()`\n",
    "- 형변환: `list(객체)`\n",
    "- `리스트객체[오프셋]`: 오프셋으로 하나의 특정 값을 추출/변경\n",
    "- `리스트객체[start:end:step]`: 슬라이스로 항목 추출\n",
    "- `리스트객체.append('추가할 리스트 요소')`: 리스트의 끝에 항목 추가\n",
    "- 리스트 병합\n",
    "    - `리스트객체1.extend(리스트객체2)`\n",
    "    - `리스트객체1 += 리스트객체2`\n",
    "- `리스트객체.insert(오프셋, '해당 오프셋에 추가할 리스트 요소')`: 지정한 오프셋 위치에 항목 추가\n",
    "- `del 리스트객체['삭제할 항목의 오프셋']`: 오프셋으로 항목 삭제\n",
    "- `리스트객체.remove('제거할 리스트 항목')`: 값으로 항목 삭제\n",
    "- 오프셋으로 항목을 얻은 후 삭제\n",
    "    - `리스트객체.pop()`: 맨 뒤 항목을 얻은 후 삭제\n",
    "    - `리스트객체.pop(오프셋)`: 해당 오프셋에 있는 항목을 얻은 후 삭제\n",
    "- `리스트객체.index('항목의 값')`: 값으로 항목 오프셋 찾기\n",
    "- `'리스트항목' in 리스트객체`: 리스트에서 어떤 값의 존재를 확인 (리스트객체 안에 '리스트항목'이 있냐?) (Boolean값 반환)\n",
    "- `리스트객체.count('개수를 셀 항목')`: 리스트에서 특정 값이 얼마나 있는지 셈\n",
    "- 정렬하기\n",
    "    - `리스트복사본 = sorted(리스트객체)`: 오름차순으로 정렬된 리스트의 복사본 반환 (원본 리스트는 변하지 않음)\n",
    "    - `리스트객체.sort()`: 리스트객체를 오름차순으로 정렬하고 반환 (원본 리스트는 변함)\n",
    "    - `리스트객체.sort(reverse=True)`: 내림차순으로 정렬\n",
    "- `len(리스트객체)`: 리스트의 길이 반환 (항목 개수 얻기)"
   ]
  },
  {
   "cell_type": "markdown",
   "metadata": {},
   "source": [
    "#### 리스트 생성 `[]`"
   ]
  },
  {
   "cell_type": "code",
   "execution_count": 141,
   "metadata": {},
   "outputs": [
    {
     "name": "stdout",
     "output_type": "stream",
     "text": [
      "[]\n",
      "['Monday', 'Tuesday', 'Wednesday', 'Thursday', 'Friday']\n",
      "['emu', 'ostrich', 'cassowary']\n",
      "['Graham', 'John', 'Terry', 'Terry', 'Michael']\n"
     ]
    }
   ],
   "source": [
    "empty_list = []\n",
    "weekdays = ['Monday', 'Tuesday', 'Wednesday', 'Thursday', 'Friday']\n",
    "big_birds = ['emu', 'ostrich', 'cassowary']\n",
    "first_names = ['Graham', 'John', 'Terry', 'Terry', 'Michael']\n",
    "\n",
    "print(empty_list)\n",
    "print(weekdays)\n",
    "print(big_birds)\n",
    "print(first_names)"
   ]
  },
  {
   "cell_type": "markdown",
   "metadata": {},
   "source": [
    "#### 리스트 생성 `list()`"
   ]
  },
  {
   "cell_type": "code",
   "execution_count": 142,
   "metadata": {},
   "outputs": [
    {
     "name": "stdout",
     "output_type": "stream",
     "text": [
      "[]\n"
     ]
    }
   ],
   "source": [
    "empty_list = list()\n",
    "\n",
    "print(empty_list)"
   ]
  },
  {
   "cell_type": "markdown",
   "metadata": {},
   "source": [
    "#### 리스트로 형변환  `list()`"
   ]
  },
  {
   "cell_type": "code",
   "execution_count": 143,
   "metadata": {},
   "outputs": [
    {
     "name": "stdout",
     "output_type": "stream",
     "text": [
      "['c', 'a', 't']\n"
     ]
    }
   ],
   "source": [
    "print(list('cat'))"
   ]
  },
  {
   "cell_type": "code",
   "execution_count": 144,
   "metadata": {},
   "outputs": [
    {
     "name": "stdout",
     "output_type": "stream",
     "text": [
      "['ready', 'fire', 'aim']\n"
     ]
    }
   ],
   "source": [
    "# 튜플을 리스트로 형변환\n",
    "a_tuple = ('ready', 'fire', 'aim')\n",
    "\n",
    "print(list(a_tuple))"
   ]
  },
  {
   "cell_type": "markdown",
   "metadata": {},
   "source": [
    "#### 리스트로 형변환 `split()`"
   ]
  },
  {
   "cell_type": "code",
   "execution_count": 145,
   "metadata": {},
   "outputs": [
    {
     "name": "stdout",
     "output_type": "stream",
     "text": [
      "['03', '07', '1991']\n"
     ]
    }
   ],
   "source": [
    "# split()으로 문자열을 구분자로 나누어서 리스트로 변환\n",
    "birthday = '03/07/1991'\n",
    "birthday_list = birthday.split('/')\n",
    "\n",
    "print(birthday_list)"
   ]
  },
  {
   "cell_type": "code",
   "execution_count": 146,
   "metadata": {},
   "outputs": [
    {
     "name": "stdout",
     "output_type": "stream",
     "text": [
      "['03', '', '07', '', '1991']\n"
     ]
    }
   ],
   "source": [
    "# 문자열에 구분자가 여러개 있으면 리스트에 빈 문자열이 들어간다.\n",
    "birthday = '03//07//1991'\n",
    "birthday_list = birthday.split('/')\n",
    "\n",
    "print(birthday_list)"
   ]
  },
  {
   "cell_type": "markdown",
   "metadata": {},
   "source": [
    "#### 오프셋으로 하나의 특정한 값 추출"
   ]
  },
  {
   "cell_type": "code",
   "execution_count": 147,
   "metadata": {},
   "outputs": [
    {
     "name": "stdout",
     "output_type": "stream",
     "text": [
      "Groucho\n",
      "Chico\n",
      "Harpo\n",
      "\n",
      "\n",
      "Harpo\n",
      "Chico\n",
      "Groucho\n"
     ]
    }
   ],
   "source": [
    "marxes = ['Groucho', 'Chico', 'Harpo']\n",
    "\n",
    "print(marxes[0])\n",
    "print(marxes[1])\n",
    "print(marxes[2])\n",
    "\n",
    "print('\\n')\n",
    "\n",
    "print(marxes[-1])\n",
    "print(marxes[-2])\n",
    "print(marxes[-3])"
   ]
  },
  {
   "cell_type": "markdown",
   "metadata": {},
   "source": [
    "#### 오프셋으로 항목 얻기"
   ]
  },
  {
   "cell_type": "code",
   "execution_count": 148,
   "metadata": {},
   "outputs": [
    {
     "name": "stdout",
     "output_type": "stream",
     "text": [
      "[['hummingbird', 'finch'], ['dodo', 'passenger pigeon', 'Norwegian Blue'], 'macaw', [3, 'French hens', 2, 'turtledoves']]\n",
      "['hummingbird', 'finch']\n",
      "['dodo', 'passenger pigeon', 'Norwegian Blue']\n",
      "macaw\n",
      "dodo\n"
     ]
    }
   ],
   "source": [
    "small_birds = ['hummingbird', 'finch']\n",
    "extinct_birds = ['dodo', 'passenger pigeon', 'Norwegian Blue']\n",
    "carol_birds = [3, 'French hens', 2, 'turtledoves']\n",
    "\n",
    "all_birds = [small_birds, extinct_birds, 'macaw', carol_birds]\n",
    "\n",
    "print(all_birds)\n",
    "\n",
    "print(all_birds[0])\n",
    "print(all_birds[1])\n",
    "print(all_birds[2])\n",
    "\n",
    "print(all_birds[1][0]) # all_birds의 두번째[1]항목 → extinct_birds의 첫번째[0]항목 "
   ]
  },
  {
   "cell_type": "markdown",
   "metadata": {},
   "source": [
    "#### 오프셋으로 항목 바꾸기 (문자열은 불변이기 때문에 오프셋으로 바꿀 수 없다)"
   ]
  },
  {
   "cell_type": "code",
   "execution_count": 149,
   "metadata": {},
   "outputs": [
    {
     "name": "stdout",
     "output_type": "stream",
     "text": [
      "['Groucho', 'Chico', 'Harpo']\n"
     ]
    }
   ],
   "source": [
    "marxes = ['Groucho', 'Chico', 'Harpo']\n",
    "print(marxes)"
   ]
  },
  {
   "cell_type": "code",
   "execution_count": 150,
   "metadata": {},
   "outputs": [
    {
     "name": "stdout",
     "output_type": "stream",
     "text": [
      "['Groucho', 'Chico', 'Wanda']\n"
     ]
    }
   ],
   "source": [
    "marxes[2] = 'Wanda'\n",
    "print(marxes)"
   ]
  },
  {
   "cell_type": "markdown",
   "metadata": {},
   "source": [
    "#### 슬라이스로 항목 추출하기"
   ]
  },
  {
   "cell_type": "code",
   "execution_count": 151,
   "metadata": {},
   "outputs": [
    {
     "data": {
      "text/plain": [
       "['Groucho', 'Chico']"
      ]
     },
     "execution_count": 151,
     "metadata": {},
     "output_type": "execute_result"
    }
   ],
   "source": [
    "# 리스트의 sub-sequence 추출\n",
    "marxes = ['Groucho', 'Chico', 'Harpo']\n",
    "marxes[0:2] # 오프셋 0부터 오프셋 1까지 추출"
   ]
  },
  {
   "cell_type": "code",
   "execution_count": 152,
   "metadata": {},
   "outputs": [
    {
     "name": "stdout",
     "output_type": "stream",
     "text": [
      "['Groucho', 'Harpo']\n",
      "['Harpo', 'Groucho']\n",
      "['Harpo', 'Chico', 'Groucho']\n"
     ]
    }
   ],
   "source": [
    "# 슬라이스 스탭\n",
    "print(marxes[::2]) # 오른쪽부터 2칸씩 항목 추출\n",
    "print(marxes[::-2]) # 왼쪽부터 2칸씩 항목 추출\n",
    "print(marxes[::-1]) # 리스트 반전"
   ]
  },
  {
   "cell_type": "markdown",
   "metadata": {},
   "source": [
    "#### 리스트 끝에 항목 추가하기 `append()`"
   ]
  },
  {
   "cell_type": "code",
   "execution_count": 153,
   "metadata": {},
   "outputs": [
    {
     "name": "stdout",
     "output_type": "stream",
     "text": [
      "['Groucho', 'Chico', 'Harpo', 'Zeppo']\n"
     ]
    }
   ],
   "source": [
    "marxes = ['Groucho', 'Chico', 'Harpo']\n",
    "marxes.append('Zeppo')\n",
    "\n",
    "print(marxes)"
   ]
  },
  {
   "cell_type": "markdown",
   "metadata": {},
   "source": [
    "#### 오프셋과 `insert()`로 항목 추가하기"
   ]
  },
  {
   "cell_type": "code",
   "execution_count": 154,
   "metadata": {
    "scrolled": true
   },
   "outputs": [
    {
     "name": "stdout",
     "output_type": "stream",
     "text": [
      "['Groucho', 'Chico', 'Gummo', 'Harpo']\n"
     ]
    }
   ],
   "source": [
    "marxes = ['Groucho', 'Chico', 'Harpo']\n",
    "\n",
    "marxes.insert(2, 'Gummo') # 오프셋 2 자리에 'Gummo'항목 추가\n",
    "\n",
    "print(marxes)"
   ]
  },
  {
   "cell_type": "code",
   "execution_count": 155,
   "metadata": {},
   "outputs": [
    {
     "name": "stdout",
     "output_type": "stream",
     "text": [
      "['Groucho', 'Chico', 'Harpo', 'Gummo']\n"
     ]
    }
   ],
   "source": [
    "# 리스트 끝을 넘는 오프셋은 append()처럼 끝에 항목을 추가한다. (에러 X)\n",
    "marxes = ['Groucho', 'Chico', 'Harpo']\n",
    "\n",
    "marxes.insert(1000000000, 'Gummo')\n",
    "\n",
    "print(marxes)"
   ]
  },
  {
   "cell_type": "markdown",
   "metadata": {},
   "source": [
    "#### 리스트 병합하기 `extend()`, `+=`"
   ]
  },
  {
   "cell_type": "code",
   "execution_count": 156,
   "metadata": {},
   "outputs": [
    {
     "name": "stdout",
     "output_type": "stream",
     "text": [
      "['Groucho', 'Chico', 'Harpo', 'Zeppo', 'Gummo', 'Karl']\n"
     ]
    }
   ],
   "source": [
    "# extend()\n",
    "marxes = ['Groucho', 'Chico', 'Harpo', 'Zeppo']\n",
    "others = ['Gummo', 'Karl']\n",
    "\n",
    "marxes.extend(others)\n",
    "\n",
    "print(marxes)"
   ]
  },
  {
   "cell_type": "code",
   "execution_count": 157,
   "metadata": {},
   "outputs": [
    {
     "name": "stdout",
     "output_type": "stream",
     "text": [
      "['Groucho', 'Chico', 'Harpo', 'Zeppo', 'Gummo', 'Karl']\n"
     ]
    }
   ],
   "source": [
    "# +=\n",
    "marxes = ['Groucho', 'Chico', 'Harpo', 'Zeppo']\n",
    "others = ['Gummo', 'Karl']\n",
    "\n",
    "marxes += others\n",
    "\n",
    "print(marxes)"
   ]
  },
  {
   "cell_type": "code",
   "execution_count": 158,
   "metadata": {},
   "outputs": [
    {
     "name": "stdout",
     "output_type": "stream",
     "text": [
      "['Groucho', 'Chico', 'Harpo', 'Zeppo', ['Gummo', 'Karl']]\n"
     ]
    }
   ],
   "source": [
    "# append()를 사용하면 항목을 병합하지 않고, others가 하나의 리스트로 추가된다.\n",
    "marxes = ['Groucho', 'Chico', 'Harpo', 'Zeppo']\n",
    "others = ['Gummo', 'Karl']\n",
    "\n",
    "marxes.append(others)\n",
    "\n",
    "print(marxes)"
   ]
  },
  {
   "cell_type": "markdown",
   "metadata": {},
   "source": [
    "#### 오프셋으로 항목 삭제하기 `del`"
   ]
  },
  {
   "cell_type": "code",
   "execution_count": 159,
   "metadata": {},
   "outputs": [
    {
     "name": "stdout",
     "output_type": "stream",
     "text": [
      "4\n",
      "['Groucho', 'Chico', 'Harpo']\n",
      "3\n"
     ]
    }
   ],
   "source": [
    "marxes = ['Groucho', 'Chico', 'Harpo', 'Zeppo']\n",
    "print(len(marxes))\n",
    "\n",
    "del marxes[-1]\n",
    "\n",
    "print(marxes)\n",
    "# 오프셋으로 리스트의 특정 항목을 삭제하면, 제거된 항목 이후의 항목들이 한 칸씩 앞으로 당겨진다. (리스트의 길이가 1 감소)\n",
    "print(len(marxes))"
   ]
  },
  {
   "cell_type": "markdown",
   "metadata": {},
   "source": [
    "#### 값으로 항목 삭제하기 `remove()`"
   ]
  },
  {
   "cell_type": "code",
   "execution_count": 160,
   "metadata": {},
   "outputs": [
    {
     "name": "stdout",
     "output_type": "stream",
     "text": [
      "['Groucho', 'Harpo', 'Zeppo']\n"
     ]
    }
   ],
   "source": [
    "marxes = ['Groucho', 'Chico', 'Harpo', 'Zeppo']\n",
    "\n",
    "marxes.remove('Chico')\n",
    "\n",
    "print(marxes)"
   ]
  },
  {
   "cell_type": "markdown",
   "metadata": {},
   "source": [
    "#### 오프셋으로 항목을 얻은 후 삭제하기 `pop()`"
   ]
  },
  {
   "cell_type": "code",
   "execution_count": 161,
   "metadata": {},
   "outputs": [
    {
     "name": "stdout",
     "output_type": "stream",
     "text": [
      "Zeppo\n",
      "['Groucho', 'Chico', 'Harpo']\n"
     ]
    }
   ],
   "source": [
    "marxes = ['Groucho', 'Chico', 'Harpo', 'Zeppo']\n",
    "\n",
    "print(marxes.pop())\n",
    "print(marxes)"
   ]
  },
  {
   "cell_type": "code",
   "execution_count": 162,
   "metadata": {},
   "outputs": [
    {
     "name": "stdout",
     "output_type": "stream",
     "text": [
      "Chico\n",
      "['Groucho', 'Harpo', 'Zeppo']\n"
     ]
    }
   ],
   "source": [
    "marxes = ['Groucho', 'Chico', 'Harpo', 'Zeppo']\n",
    "\n",
    "print(marxes.pop(1))\n",
    "print(marxes)"
   ]
  },
  {
   "cell_type": "markdown",
   "metadata": {},
   "source": [
    "#### 값으로 항목 오프셋 찾기 `index()`"
   ]
  },
  {
   "cell_type": "code",
   "execution_count": 163,
   "metadata": {},
   "outputs": [
    {
     "name": "stdout",
     "output_type": "stream",
     "text": [
      "1\n"
     ]
    }
   ],
   "source": [
    "marxes = ['Groucho', 'Chico', 'Harpo', 'Zeppo']\n",
    "\n",
    "print(marxes.index('Chico'))"
   ]
  },
  {
   "cell_type": "markdown",
   "metadata": {},
   "source": [
    "#### 존재여부 확인하기 `in`"
   ]
  },
  {
   "cell_type": "code",
   "execution_count": 164,
   "metadata": {},
   "outputs": [
    {
     "name": "stdout",
     "output_type": "stream",
     "text": [
      "True\n",
      "False\n"
     ]
    }
   ],
   "source": [
    "marxes = ['Groucho', 'Chico', 'Harpo', 'Zeppo']\n",
    "\n",
    "print('Groucho' in marxes)\n",
    "print('Gummo' in marxes)"
   ]
  },
  {
   "cell_type": "code",
   "execution_count": 165,
   "metadata": {},
   "outputs": [
    {
     "data": {
      "text/plain": [
       "True"
      ]
     },
     "execution_count": 165,
     "metadata": {},
     "output_type": "execute_result"
    }
   ],
   "source": [
    "# 문자열에서도 사용 가능\n",
    "greeting = 'Hello Hi Good Great'\n",
    "'Hello' in greeting"
   ]
  },
  {
   "cell_type": "markdown",
   "metadata": {},
   "source": [
    "#### 값 세기 `count()`"
   ]
  },
  {
   "cell_type": "code",
   "execution_count": 166,
   "metadata": {},
   "outputs": [
    {
     "data": {
      "text/plain": [
       "2"
      ]
     },
     "execution_count": 166,
     "metadata": {},
     "output_type": "execute_result"
    }
   ],
   "source": [
    "marxes = ['Groucho', 'Chico', 'Harpo', 'Harpo']\n",
    "\n",
    "marxes.count('Harpo')"
   ]
  },
  {
   "cell_type": "code",
   "execution_count": 167,
   "metadata": {},
   "outputs": [
    {
     "data": {
      "text/plain": [
       "0"
      ]
     },
     "execution_count": 167,
     "metadata": {},
     "output_type": "execute_result"
    }
   ],
   "source": [
    "marxes.count('Bob')"
   ]
  },
  {
   "cell_type": "markdown",
   "metadata": {},
   "source": [
    "#### <span style=\"color: red;\">문자열로 변환하기 `join()`</span>"
   ]
  },
  {
   "cell_type": "code",
   "execution_count": 168,
   "metadata": {},
   "outputs": [
    {
     "name": "stdout",
     "output_type": "stream",
     "text": [
      "Harry*Hermione*Ron\n",
      "<class 'str'>\n"
     ]
    }
   ],
   "source": [
    "friends = ['Harry', 'Hermione', 'Ron']\n",
    "separator = '*'\n",
    "joined = separator.join(friends)\n",
    "\n",
    "print(joined)\n",
    "print(type(joined))"
   ]
  },
  {
   "cell_type": "code",
   "execution_count": 169,
   "metadata": {},
   "outputs": [
    {
     "name": "stdout",
     "output_type": "stream",
     "text": [
      "['Harry', 'Hermione', 'Ron']\n",
      "<class 'list'>\n"
     ]
    }
   ],
   "source": [
    "separated = joined.split(separator)\n",
    "print(separated)\n",
    "print(type(separated))"
   ]
  },
  {
   "cell_type": "markdown",
   "metadata": {},
   "source": [
    "#### 정렬하기 `sort()`, `sorted()`"
   ]
  },
  {
   "cell_type": "code",
   "execution_count": 170,
   "metadata": {},
   "outputs": [
    {
     "name": "stdout",
     "output_type": "stream",
     "text": [
      "['Groucho', 'Chico', 'Harpo']\n",
      "['Chico', 'Groucho', 'Harpo']\n"
     ]
    }
   ],
   "source": [
    "# 원본 리스트는 변하지 않고 복사본을 반환\n",
    "marxes = ['Groucho', 'Chico', 'Harpo']\n",
    "sorted_marxes = sorted(marxes) # 알파벳순으로 정렬\n",
    "\n",
    "print(marxes)\n",
    "print(sorted_marxes)"
   ]
  },
  {
   "cell_type": "code",
   "execution_count": 171,
   "metadata": {},
   "outputs": [
    {
     "name": "stdout",
     "output_type": "stream",
     "text": [
      "[3, 4, 5, 1, 1, 2]\n",
      "[1, 1, 2, 3, 4, 5]\n"
     ]
    }
   ],
   "source": [
    "numbers = [3, 4, 5, 1, 1, 2]\n",
    "sorted_numbers = sorted(numbers) # 순서대로 정렬\n",
    "\n",
    "print(numbers)\n",
    "print(sorted_numbers)"
   ]
  },
  {
   "cell_type": "code",
   "execution_count": 172,
   "metadata": {},
   "outputs": [
    {
     "name": "stdout",
     "output_type": "stream",
     "text": [
      "['Chico', 'Groucho', 'Harpo']\n"
     ]
    }
   ],
   "source": [
    "# 변한 원본 리스트가 반환됨\n",
    "marxes = ['Groucho', 'Chico', 'Harpo']\n",
    "marxes.sort()\n",
    "\n",
    "print(marxes)"
   ]
  },
  {
   "cell_type": "code",
   "execution_count": 173,
   "metadata": {},
   "outputs": [
    {
     "name": "stdout",
     "output_type": "stream",
     "text": [
      "[1, 2, 3, 4.0]\n"
     ]
    }
   ],
   "source": [
    "numbers = [2, 1, 4.0, 3]\n",
    "numbers.sort()\n",
    "\n",
    "print(numbers)"
   ]
  },
  {
   "cell_type": "code",
   "execution_count": 174,
   "metadata": {},
   "outputs": [
    {
     "name": "stdout",
     "output_type": "stream",
     "text": [
      "[4.0, 3, 2, 1]\n"
     ]
    }
   ],
   "source": [
    "# 내림차순으로 정렬\n",
    "numbers = [2, 1, 4.0, 3]\n",
    "numbers.sort(reverse=True)\n",
    "\n",
    "print(numbers)"
   ]
  },
  {
   "cell_type": "markdown",
   "metadata": {},
   "source": [
    "#### 항목 개수 얻기 `len()`"
   ]
  },
  {
   "cell_type": "code",
   "execution_count": 175,
   "metadata": {},
   "outputs": [
    {
     "data": {
      "text/plain": [
       "3"
      ]
     },
     "execution_count": 175,
     "metadata": {},
     "output_type": "execute_result"
    }
   ],
   "source": [
    "marxes = ['Groucho', 'Chico', 'Harpo']\n",
    "len(marxes)"
   ]
  },
  {
   "cell_type": "markdown",
   "metadata": {},
   "source": [
    "#### 할당 `=`, 복사 `copy()`"
   ]
  },
  {
   "cell_type": "code",
   "execution_count": 176,
   "metadata": {},
   "outputs": [
    {
     "name": "stdout",
     "output_type": "stream",
     "text": [
      "[1, 2, 3]\n"
     ]
    }
   ],
   "source": [
    "a = [1, 2, 3]\n",
    "print(a)"
   ]
  },
  {
   "cell_type": "code",
   "execution_count": 177,
   "metadata": {},
   "outputs": [
    {
     "name": "stdout",
     "output_type": "stream",
     "text": [
      "[1, 2, 3]\n"
     ]
    }
   ],
   "source": [
    "b = a\n",
    "print(b)"
   ]
  },
  {
   "cell_type": "code",
   "execution_count": 178,
   "metadata": {},
   "outputs": [
    {
     "name": "stdout",
     "output_type": "stream",
     "text": [
      "['surprise', 2, 3]\n"
     ]
    }
   ],
   "source": [
    "a[0] = 'surprise'\n",
    "print(a)"
   ]
  },
  {
   "cell_type": "code",
   "execution_count": 179,
   "metadata": {},
   "outputs": [
    {
     "name": "stdout",
     "output_type": "stream",
     "text": [
      "['surprise', 2, 3]\n"
     ]
    }
   ],
   "source": [
    "print(b) # b는 리스트 객체 a를 참조하기 때문에 a 혹은 b의 리스트 내용을 변경하면 두 변수 모두에 반영됨"
   ]
  },
  {
   "cell_type": "markdown",
   "metadata": {},
   "source": [
    "<span style=\"color: red;\">복사하여 문제해결</span> `copy()`, `list()`, `[:]`"
   ]
  },
  {
   "cell_type": "code",
   "execution_count": 180,
   "metadata": {},
   "outputs": [
    {
     "name": "stdout",
     "output_type": "stream",
     "text": [
      "[1, 2, 3]\n",
      "[1, 2, 3]\n",
      "[1, 2, 3]\n",
      "[1, 2, 3]\n"
     ]
    }
   ],
   "source": [
    "a = [1, 2, 3]\n",
    "b = a.copy()\n",
    "c = list(a)\n",
    "d = a[:]\n",
    "\n",
    "print(a)\n",
    "print(b)\n",
    "print(c)\n",
    "print(d)"
   ]
  },
  {
   "cell_type": "code",
   "execution_count": 181,
   "metadata": {},
   "outputs": [
    {
     "name": "stdout",
     "output_type": "stream",
     "text": [
      "['surprise', 2, 3]\n"
     ]
    }
   ],
   "source": [
    "a[0] = 'surprise'\n",
    "print(a)"
   ]
  },
  {
   "cell_type": "code",
   "execution_count": 182,
   "metadata": {},
   "outputs": [
    {
     "name": "stdout",
     "output_type": "stream",
     "text": [
      "[1, 2, 3]\n",
      "[1, 2, 3]\n",
      "[1, 2, 3]\n"
     ]
    }
   ],
   "source": [
    "print(b)\n",
    "print(c)\n",
    "print(d)"
   ]
  },
  {
   "cell_type": "markdown",
   "metadata": {},
   "source": [
    "## 튜플 (Tuple)\n",
    "- 임의적인 항목의 시퀀스\n",
    "- 튜플은 불변 (튜플을 정의한 후에는 추가, 삭제, 수정을 할 수 없다) → <span style=\"color: red;\">리스트의 상수 버전</span>\n",
    "\n",
    "\n",
    "- 튜플 생성: `()`\n",
    "- 튜플 언팩킹: 한번에 여러 변수에 할당 `변수1, 변수2, 변수3 = 튜플객체`\n",
    "- 형변환: `tuple(객체)`\n",
    "\n",
    "### 튜플 VS 리스트\n",
    "- 튜플은 생성한 후에는 수정할 수 없기 때문에 리스트에 있는 `append()`나 `insert()` 등 해당 데이터를 추가, 삭제, 수정할 수 있는 매서드를 사용할 수 없다.\n",
    "\n",
    "#### 튜플의 장점\n",
    "- 튜플은 더 적은 공간을 사용\n",
    "- 튜플의 데이터가 손상될 수 없다 (데이터의 신뢰성)\n",
    "- <span style=\"color: red;\">튜플을 딕셔너리 키로 사용할 수 있다</span>\n",
    "- **네임드 튜플**은 객체의 단순한 대안이 될 수 있다\n",
    "- <span style=\"color: red;\">함수의 인자는 튜플로 전달된다</span>"
   ]
  },
  {
   "cell_type": "markdown",
   "metadata": {},
   "source": [
    "#### 튜플 생성하기 `()`"
   ]
  },
  {
   "cell_type": "code",
   "execution_count": 119,
   "metadata": {},
   "outputs": [
    {
     "name": "stdout",
     "output_type": "stream",
     "text": [
      "()\n"
     ]
    }
   ],
   "source": [
    "empty_tuple = ()\n",
    "print(empty_tuple)"
   ]
  },
  {
   "cell_type": "code",
   "execution_count": 121,
   "metadata": {},
   "outputs": [
    {
     "name": "stdout",
     "output_type": "stream",
     "text": [
      "('Groucho',)\n",
      "Groucho\n"
     ]
    }
   ],
   "source": [
    "# 하나 이상의 요소가 있는 튜플을 만들기 위해서는 각 요소 뒤에 콤마(,)를 붙인다\n",
    "marx_tuple = 'Groucho',\n",
    "print(marx_tuple) \n",
    "\n",
    "marx_str = 'Groucho'\n",
    "print(marx_str)"
   ]
  },
  {
   "cell_type": "code",
   "execution_count": 122,
   "metadata": {},
   "outputs": [
    {
     "name": "stdout",
     "output_type": "stream",
     "text": [
      "('Groucho', 'Chico', 'Harpo')\n"
     ]
    }
   ],
   "source": [
    "# 두 개 이상의 요소가 있을 경우, 마지막 요소에는 콤마를 붙이지 않는다.\n",
    "marx_tuple = 'Groucho', 'Chico', 'Harpo'\n",
    "print(marx_tuple)"
   ]
  },
  {
   "cell_type": "markdown",
   "metadata": {},
   "source": [
    "#### 튜플 언팩킹"
   ]
  },
  {
   "cell_type": "code",
   "execution_count": 123,
   "metadata": {},
   "outputs": [
    {
     "name": "stdout",
     "output_type": "stream",
     "text": [
      "Groucho\n",
      "Chico\n",
      "Harpo\n"
     ]
    }
   ],
   "source": [
    "# 가독성을 위해 괄호를 붙여서 튜플 생성\n",
    "marx_tuple = ('Groucho', 'Chico', 'Harpo')\n",
    "\n",
    "# 한번에 여러 변수에 할당 가능 (튜플 언팩킹)\n",
    "a, b, c = marx_tuple\n",
    "\n",
    "print(a)\n",
    "print(b)\n",
    "print(c)"
   ]
  },
  {
   "cell_type": "markdown",
   "metadata": {},
   "source": [
    "#### 튜플을 사용한 값의 교환"
   ]
  },
  {
   "cell_type": "code",
   "execution_count": 133,
   "metadata": {},
   "outputs": [
    {
     "name": "stdout",
     "output_type": "stream",
     "text": [
      "tuttifrutti\n",
      "swordfish\n",
      "<class 'str'>\n",
      "<class 'str'>\n"
     ]
    }
   ],
   "source": [
    "password = 'swordfish'\n",
    "icecream = 'tuttifrutti'\n",
    "# 각자 값이 들어갔기 때문에 해당 변수의 타입은 string이다\n",
    "# 문자열을 튜플화해서 사용할 수 있지만 값이 변경된 후에는 기존의 타입으로 다시 변환된다.\n",
    "password, icecream = icecream, password\n",
    "\n",
    "print(password)\n",
    "print(icecream)\n",
    "\n",
    "print(type(password))\n",
    "print(type(icecream))"
   ]
  },
  {
   "cell_type": "code",
   "execution_count": 137,
   "metadata": {},
   "outputs": [
    {
     "name": "stdout",
     "output_type": "stream",
     "text": [
      "('tuttifrutti', 'swordfish')\n",
      "tuttifrutti\n",
      "<class 'tuple'>\n",
      "<class 'str'>\n"
     ]
    }
   ],
   "source": [
    "password = 'swordfish'\n",
    "icecream = 'tuttifrutti'\n",
    "password = icecream, password\n",
    "\n",
    "print(password)\n",
    "print(icecream)\n",
    "\n",
    "print(type(password))\n",
    "print(type(icecream))"
   ]
  },
  {
   "cell_type": "markdown",
   "metadata": {},
   "source": [
    "#### 튜플로 형변환"
   ]
  },
  {
   "cell_type": "code",
   "execution_count": 140,
   "metadata": {},
   "outputs": [
    {
     "name": "stdout",
     "output_type": "stream",
     "text": [
      "('Groucho', 'Chico', 'Harpo')\n"
     ]
    }
   ],
   "source": [
    "# 튜플은 다른 객체를 튜플로 만들어준다\n",
    "marx_list = ['Groucho', 'Chico', 'Harpo']\n",
    "\n",
    "print(tuple(marx_list))"
   ]
  },
  {
   "cell_type": "markdown",
   "metadata": {},
   "source": [
    "## 딕셔너리 (Dictionary)\n",
    "- 리스트와 비슷하지만, \n",
    "    - 항목을 순서를 따지지 않는다\n",
    "    - 0 또는 1과 같은 오프셋으로 항목을 선택할 수 없다\n",
    "    - 값(value)에 상응하는 고유한 키(key)를 지정한다\n",
    "    - 변경 가능한 데이터타입 → 키와 값 요소를 추가, 삭제, 수정 가능\n",
    "    \n",
    "    \n",
    "- 딕셔너리 생성: `{}`\n",
    "- 형변환: `dict(객체)`: 두 값으로 이루어진 시퀀스를 딕셔너리로 변환\n",
    "- `딕셔너리객체['존재하는 키'] = '바꿀 값'`: 항목 변경\n",
    "- `딕셔너리객체['존재하지 않는 키'] = '추가할 값'`: 항목 추가\n",
    "- `딕셔너리객체.update(딕셔너리객체에 추가할 다른 딕셔너리 객체)`: 딕셔너리 결합\n",
    "- `del 딕셔너리객체['키']`: 항목 삭제\n",
    "- `딕셔너리객체.clear()`: 모든 항목 삭제 (빈 딕셔너리객체 반환)\n",
    "- `'키' in 딕셔너리객체`: 딕셔너리에 키가 존재하는지 확인 (Boolean값 반환)\n",
    "- `딕셔너리객체['키']`: 항목 얻기\n",
    "- `딕셔너리객체.get('찾을 키', '옵션값')`: 항목 얻기\n",
    "- `딕셔너리객체.keys()`: 모든 키값 얻기\n",
    "- `딕셔너리객체.values()`: 모든 값 얻기\n",
    "- `딕셔너리객체.items()`: 모든 쌍의 키와 값 얻기 (각 키와 값은 튜플로 반환)\n",
    "- `복사할 새로운 딕셔너리객체 = 기존의 딕셔너리객체.copy()`: 딕셔너리 복사"
   ]
  },
  {
   "cell_type": "markdown",
   "metadata": {},
   "source": [
    "#### 딕셔너리 생성 `{}`"
   ]
  },
  {
   "cell_type": "code",
   "execution_count": 183,
   "metadata": {},
   "outputs": [
    {
     "name": "stdout",
     "output_type": "stream",
     "text": [
      "{}\n"
     ]
    }
   ],
   "source": [
    "empty_dict = {}\n",
    "print(empty_dict)"
   ]
  },
  {
   "cell_type": "code",
   "execution_count": 184,
   "metadata": {},
   "outputs": [
    {
     "data": {
      "text/plain": [
       "{'day': 'A period of twenty-four hours, mostly misspent',\n",
       " 'positive': \"Mistaken at the top of one's voice\",\n",
       " 'misfortune': 'The kind of fortune that never misses'}"
      ]
     },
     "execution_count": 184,
     "metadata": {},
     "output_type": "execute_result"
    }
   ],
   "source": [
    "bierce = {\n",
    "    \"day\": \"A period of twenty-four hours, mostly misspent\",\n",
    "    \"positive\": \"Mistaken at the top of one's voice\",\n",
    "    \"misfortune\": \"The kind of fortune that never misses\",\n",
    "}\n",
    "\n",
    "bierce"
   ]
  },
  {
   "cell_type": "code",
   "execution_count": 185,
   "metadata": {},
   "outputs": [
    {
     "name": "stdout",
     "output_type": "stream",
     "text": [
      "{'day': 'A period of twenty-four hours, mostly misspent', 'positive': \"Mistaken at the top of one's voice\", 'misfortune': 'The kind of fortune that never misses'}\n"
     ]
    }
   ],
   "source": [
    "print(bierce)"
   ]
  },
  {
   "cell_type": "markdown",
   "metadata": {},
   "source": [
    "#### 두 값으로 이루어진 시퀀스를 딕셔너리로 형변환"
   ]
  },
  {
   "cell_type": "code",
   "execution_count": 193,
   "metadata": {},
   "outputs": [
    {
     "name": "stdout",
     "output_type": "stream",
     "text": [
      "{'a': 'b', 'c': 'd', 'e': 'f'}\n"
     ]
    }
   ],
   "source": [
    "# 문자열로 된 리스트 → 딕셔너리\n",
    "lol = [['a', 'b'], ['c', 'd'], ['e', 'f']]\n",
    "print(dict(lol))"
   ]
  },
  {
   "cell_type": "code",
   "execution_count": 194,
   "metadata": {},
   "outputs": [
    {
     "name": "stdout",
     "output_type": "stream",
     "text": [
      "{'a': 'b', 'c': 'd', 'e': 'f'}\n"
     ]
    }
   ],
   "source": [
    "los = ['ab', 'cd', 'ef']\n",
    "print(dict(los))"
   ]
  },
  {
   "cell_type": "code",
   "execution_count": 198,
   "metadata": {},
   "outputs": [
    {
     "name": "stdout",
     "output_type": "stream",
     "text": [
      "{'a': 'b', 'c': 'd', 'e': 'f'}\n"
     ]
    }
   ],
   "source": [
    "tos = ('ab', 'cd', 'ef')\n",
    "print(dict(tos))"
   ]
  },
  {
   "cell_type": "code",
   "execution_count": 195,
   "metadata": {},
   "outputs": [
    {
     "name": "stdout",
     "output_type": "stream",
     "text": [
      "{'a': 'b', 'c': 'd', 'e': 'f'}\n"
     ]
    }
   ],
   "source": [
    "# 튜플로 된 리스트 → 딕셔너리\n",
    "lot = [('a', 'b'), ('c', 'd'), ('e', 'f')]\n",
    "print(dict(lot))"
   ]
  },
  {
   "cell_type": "code",
   "execution_count": 196,
   "metadata": {},
   "outputs": [
    {
     "ename": "ValueError",
     "evalue": "dictionary update sequence element #1 has length 1; 2 is required",
     "output_type": "error",
     "traceback": [
      "\u001b[0;31m---------------------------------------------------------------------------\u001b[0m",
      "\u001b[0;31mValueError\u001b[0m                                Traceback (most recent call last)",
      "\u001b[0;32m<ipython-input-196-936246920b0f>\u001b[0m in \u001b[0;36m<module>\u001b[0;34m\u001b[0m\n\u001b[1;32m      1\u001b[0m \u001b[0;31m# 꼭 쌍으로 이루어진 데이터여야 딕셔너리로 형변환 할 수 있다\u001b[0m\u001b[0;34m\u001b[0m\u001b[0;34m\u001b[0m\u001b[0;34m\u001b[0m\u001b[0m\n\u001b[1;32m      2\u001b[0m \u001b[0mlol\u001b[0m \u001b[0;34m=\u001b[0m \u001b[0;34m[\u001b[0m\u001b[0;34m[\u001b[0m\u001b[0;34m'a'\u001b[0m\u001b[0;34m,\u001b[0m \u001b[0;34m'b'\u001b[0m\u001b[0;34m]\u001b[0m\u001b[0;34m,\u001b[0m \u001b[0;34m[\u001b[0m\u001b[0;34m'c'\u001b[0m\u001b[0;34m]\u001b[0m\u001b[0;34m,\u001b[0m \u001b[0;34m[\u001b[0m\u001b[0;34m'e'\u001b[0m\u001b[0;34m]\u001b[0m\u001b[0;34m]\u001b[0m\u001b[0;34m\u001b[0m\u001b[0;34m\u001b[0m\u001b[0m\n\u001b[0;32m----> 3\u001b[0;31m \u001b[0mprint\u001b[0m\u001b[0;34m(\u001b[0m\u001b[0mdict\u001b[0m\u001b[0;34m(\u001b[0m\u001b[0mlol\u001b[0m\u001b[0;34m)\u001b[0m\u001b[0;34m)\u001b[0m\u001b[0;34m\u001b[0m\u001b[0;34m\u001b[0m\u001b[0m\n\u001b[0m",
      "\u001b[0;31mValueError\u001b[0m: dictionary update sequence element #1 has length 1; 2 is required"
     ]
    }
   ],
   "source": [
    "# 꼭 쌍으로 이루어진 데이터여야 딕셔너리로 형변환 할 수 있다\n",
    "lol = [['a', 'b'], ['c'], ['e']]\n",
    "print(dict(lol))"
   ]
  },
  {
   "cell_type": "code",
   "execution_count": 197,
   "metadata": {},
   "outputs": [
    {
     "name": "stdout",
     "output_type": "stream",
     "text": [
      "{'a': 'b', 'c': 'd', 'e': 'f'}\n"
     ]
    }
   ],
   "source": [
    "# 리스트로 된 튜플\n",
    "tol = (['a', 'b'], ['c', 'd'], ['e', 'f'])\n",
    "print(dict(tol))"
   ]
  },
  {
   "cell_type": "markdown",
   "metadata": {},
   "source": [
    "#### 항목 추가/변경하기 `[key]`"
   ]
  },
  {
   "cell_type": "code",
   "execution_count": 203,
   "metadata": {},
   "outputs": [
    {
     "name": "stdout",
     "output_type": "stream",
     "text": [
      "{'Chapman': 'Graham', 'Cleese': 'John', 'Idle': 'Eric', 'Jones': 'Terry', 'Palin': 'Micael', 'Gilliam': 'Gerry'}\n",
      "{'Chapman': 'Graham', 'Cleese': 'John', 'Idle': 'Eric', 'Jones': 'Terry', 'Palin': 'Micael', 'Gilliam': 'Terry'}\n"
     ]
    }
   ],
   "source": [
    "# 키에 의해 참조되는 항목에 값을 할당\n",
    "\n",
    "# 딕셔너리 키가 존재하는 경우 값이 변경됨\n",
    "# 딕셔너리 키가 존재하지 않는 경우 추가\n",
    "\n",
    "pythons = {\n",
    "    'Chapman': 'Graham',\n",
    "    'Cleese': 'John',\n",
    "    'Idle': 'Eric',\n",
    "    'Jones': 'Terry', \n",
    "    'Palin': 'Micael',\n",
    "}\n",
    "\n",
    "# 항목 추가\n",
    "pythons['Gilliam'] = 'Gerry'\n",
    "print(pythons)\n",
    "# 항목 변경\n",
    "pythons['Gilliam'] = 'Terry'\n",
    "print(pythons)"
   ]
  },
  {
   "cell_type": "code",
   "execution_count": 206,
   "metadata": {},
   "outputs": [
    {
     "name": "stdout",
     "output_type": "stream",
     "text": [
      "{'Chapman': 'Graham', 'Cleese': 'John', 'Idle': 'Eric', 'Jones': 'Terry', 'Palin': 'Jin'}\n"
     ]
    }
   ],
   "source": [
    "# 키 값 덮어쓰기\n",
    "pythons = {\n",
    "    'Chapman': 'Graham',\n",
    "    'Cleese': 'John',\n",
    "    'Idle': 'Eric',\n",
    "    'Jones': 'Terry', \n",
    "    'Palin': 'Micael',\n",
    "    'Palin': 'Kim',\n",
    "    'Palin': 'Jin',\n",
    "}\n",
    "\n",
    "print(pythons) # 'Palin'의 마지막 값으로 변경 (계속해서 덮어씀)"
   ]
  },
  {
   "cell_type": "markdown",
   "metadata": {},
   "source": [
    "#### 딕셔너리 결합하기 `update()`"
   ]
  },
  {
   "cell_type": "code",
   "execution_count": 211,
   "metadata": {},
   "outputs": [
    {
     "name": "stdout",
     "output_type": "stream",
     "text": [
      "{'Chapman': 'Graham', 'Cleese': 'John', 'Idle': 'Eric', 'Jones': 'Terry', 'Palin': 'Micael', 'Marx': 'Groucho', 'Howard': 'Moe'}\n",
      "{'Marx': 'Groucho', 'Howard': 'Moe'}\n"
     ]
    }
   ],
   "source": [
    "pythons = {\n",
    "    'Chapman': 'Graham',\n",
    "    'Cleese': 'John',\n",
    "    'Idle': 'Eric',\n",
    "    'Jones': 'Terry', \n",
    "    'Palin': 'Micael',\n",
    "}\n",
    "\n",
    "others = {'Marx': 'Groucho', 'Howard': 'Moe'}\n",
    "\n",
    "pythons.update(others) # others가 pythons에 추가됨\n",
    "\n",
    "print(pythons) \n",
    "print(others)"
   ]
  },
  {
   "cell_type": "code",
   "execution_count": 212,
   "metadata": {},
   "outputs": [
    {
     "name": "stdout",
     "output_type": "stream",
     "text": [
      "{'a': 1, 'b': 'platypus'}\n"
     ]
    }
   ],
   "source": [
    "# 딕셔너리에 병합을 할 때 두 딕셔너리에 같은 키값이 있다면 두번째 딕셔너리에 있는 값으로 덮어씌어진다.\n",
    "first = {'a': 1, 'b': 2}\n",
    "second = {'b': 'platypus'}\n",
    "\n",
    "first.update(second)\n",
    "\n",
    "print(first)"
   ]
  },
  {
   "cell_type": "markdown",
   "metadata": {},
   "source": [
    "#### 항목 삭제하기 `del`, `clear()`"
   ]
  },
  {
   "cell_type": "code",
   "execution_count": 215,
   "metadata": {},
   "outputs": [
    {
     "name": "stdout",
     "output_type": "stream",
     "text": [
      "{'Cleese': 'John', 'Idle': 'Eric', 'Jones': 'Terry', 'Palin': 'Micael'}\n"
     ]
    }
   ],
   "source": [
    "pythons = {\n",
    "    'Chapman': 'Graham',\n",
    "    'Cleese': 'John',\n",
    "    'Idle': 'Eric',\n",
    "    'Jones': 'Terry', \n",
    "    'Palin': 'Micael',\n",
    "}\n",
    "\n",
    "# 키 값으로 삭제\n",
    "del pythons['Chapman']\n",
    "print(pythons)"
   ]
  },
  {
   "cell_type": "code",
   "execution_count": 216,
   "metadata": {},
   "outputs": [
    {
     "ename": "KeyError",
     "evalue": "'Jin'",
     "output_type": "error",
     "traceback": [
      "\u001b[0;31m---------------------------------------------------------------------------\u001b[0m",
      "\u001b[0;31mKeyError\u001b[0m                                  Traceback (most recent call last)",
      "\u001b[0;32m<ipython-input-216-c84b5808f338>\u001b[0m in \u001b[0;36m<module>\u001b[0;34m\u001b[0m\n\u001b[0;32m----> 1\u001b[0;31m \u001b[0;32mdel\u001b[0m \u001b[0mpythons\u001b[0m\u001b[0;34m[\u001b[0m\u001b[0;34m'Jin'\u001b[0m\u001b[0;34m]\u001b[0m\u001b[0;34m\u001b[0m\u001b[0;34m\u001b[0m\u001b[0m\n\u001b[0m\u001b[1;32m      2\u001b[0m \u001b[0mprint\u001b[0m\u001b[0;34m(\u001b[0m\u001b[0mpythons\u001b[0m\u001b[0;34m)\u001b[0m\u001b[0;34m\u001b[0m\u001b[0;34m\u001b[0m\u001b[0m\n",
      "\u001b[0;31mKeyError\u001b[0m: 'Jin'"
     ]
    }
   ],
   "source": [
    "del pythons['Jin'] # 존재하지 않는 값을 사용하려고 하면 에러 발생\n",
    "print(pythons)"
   ]
  },
  {
   "cell_type": "code",
   "execution_count": 217,
   "metadata": {},
   "outputs": [
    {
     "ename": "KeyError",
     "evalue": "'Eric'",
     "output_type": "error",
     "traceback": [
      "\u001b[0;31m---------------------------------------------------------------------------\u001b[0m",
      "\u001b[0;31mKeyError\u001b[0m                                  Traceback (most recent call last)",
      "\u001b[0;32m<ipython-input-217-50d120033dc8>\u001b[0m in \u001b[0;36m<module>\u001b[0;34m\u001b[0m\n\u001b[1;32m      1\u001b[0m \u001b[0;31m# 값으로 삭제\u001b[0m\u001b[0;34m\u001b[0m\u001b[0;34m\u001b[0m\u001b[0;34m\u001b[0m\u001b[0m\n\u001b[0;32m----> 2\u001b[0;31m \u001b[0;32mdel\u001b[0m \u001b[0mpythons\u001b[0m\u001b[0;34m[\u001b[0m\u001b[0;34m'Eric'\u001b[0m\u001b[0;34m]\u001b[0m\u001b[0;34m\u001b[0m\u001b[0;34m\u001b[0m\u001b[0m\n\u001b[0m\u001b[1;32m      3\u001b[0m \u001b[0mprint\u001b[0m\u001b[0;34m(\u001b[0m\u001b[0mpythons\u001b[0m\u001b[0;34m)\u001b[0m\u001b[0;34m\u001b[0m\u001b[0;34m\u001b[0m\u001b[0m\n",
      "\u001b[0;31mKeyError\u001b[0m: 'Eric'"
     ]
    }
   ],
   "source": [
    "# 값으로 삭제 불가능\n",
    "del pythons['Eric']\n",
    "print(pythons)"
   ]
  },
  {
   "cell_type": "code",
   "execution_count": 219,
   "metadata": {},
   "outputs": [
    {
     "name": "stdout",
     "output_type": "stream",
     "text": [
      "{'Chapman': 'Graham', 'Cleese': 'John', 'Idle': 'Eric', 'Jones': 'Terry', 'Palin': 'Micael'}\n",
      "{}\n"
     ]
    }
   ],
   "source": [
    "# 모든 항목 삭제\n",
    "pythons = {\n",
    "    'Chapman': 'Graham',\n",
    "    'Cleese': 'John',\n",
    "    'Idle': 'Eric',\n",
    "    'Jones': 'Terry', \n",
    "    'Palin': 'Micael',\n",
    "}\n",
    "\n",
    "print(pythons)\n",
    "\n",
    "pythons.clear()\n",
    "print(pythons)"
   ]
  },
  {
   "cell_type": "markdown",
   "metadata": {},
   "source": [
    "#### 딕셔너리에 키가 존재하는지 확인 `in`"
   ]
  },
  {
   "cell_type": "code",
   "execution_count": 221,
   "metadata": {},
   "outputs": [
    {
     "name": "stdout",
     "output_type": "stream",
     "text": [
      "True\n",
      "False\n"
     ]
    }
   ],
   "source": [
    "pythons = {\n",
    "    'Chapman': 'Graham',\n",
    "    'Cleese': 'John',\n",
    "    'Idle': 'Eric',\n",
    "    'Jones': 'Terry', \n",
    "    'Palin': 'Micael',\n",
    "}\n",
    "\n",
    "print('Chapman' in pythons)\n",
    "print('Jin' in pythons)"
   ]
  },
  {
   "cell_type": "markdown",
   "metadata": {},
   "source": [
    "#### 항목 얻기 `[key]`, `get()`"
   ]
  },
  {
   "cell_type": "code",
   "execution_count": 222,
   "metadata": {},
   "outputs": [
    {
     "name": "stdout",
     "output_type": "stream",
     "text": [
      "John\n"
     ]
    }
   ],
   "source": [
    "pythons = {\n",
    "    'Chapman': 'Graham',\n",
    "    'Cleese': 'John',\n",
    "    'Idle': 'Eric',\n",
    "    'Jones': 'Terry', \n",
    "    'Palin': 'Micael',\n",
    "}\n",
    "\n",
    "print(pythons['Cleese'])"
   ]
  },
  {
   "cell_type": "code",
   "execution_count": 224,
   "metadata": {},
   "outputs": [
    {
     "ename": "KeyError",
     "evalue": "'Jin'",
     "output_type": "error",
     "traceback": [
      "\u001b[0;31m---------------------------------------------------------------------------\u001b[0m",
      "\u001b[0;31mKeyError\u001b[0m                                  Traceback (most recent call last)",
      "\u001b[0;32m<ipython-input-224-61d2aa7af3f8>\u001b[0m in \u001b[0;36m<module>\u001b[0;34m\u001b[0m\n\u001b[1;32m      1\u001b[0m \u001b[0;31m# 존재하지 않으면 에러 발생\u001b[0m\u001b[0;34m\u001b[0m\u001b[0;34m\u001b[0m\u001b[0;34m\u001b[0m\u001b[0m\n\u001b[0;32m----> 2\u001b[0;31m \u001b[0mprint\u001b[0m\u001b[0;34m(\u001b[0m\u001b[0mpythons\u001b[0m\u001b[0;34m[\u001b[0m\u001b[0;34m'Jin'\u001b[0m\u001b[0;34m]\u001b[0m\u001b[0;34m)\u001b[0m\u001b[0;34m\u001b[0m\u001b[0;34m\u001b[0m\u001b[0m\n\u001b[0m",
      "\u001b[0;31mKeyError\u001b[0m: 'Jin'"
     ]
    }
   ],
   "source": [
    "# 존재하지 않으면 에러 발생\n",
    "print(pythons['Jin'])"
   ]
  },
  {
   "cell_type": "code",
   "execution_count": 227,
   "metadata": {},
   "outputs": [
    {
     "name": "stdout",
     "output_type": "stream",
     "text": [
      "No Key\n",
      "Graham\n",
      "None\n"
     ]
    }
   ],
   "source": [
    "# get()함수를 사용\n",
    "pythons = {\n",
    "    'Chapman': 'Graham',\n",
    "    'Cleese': 'John',\n",
    "    'Idle': 'Eric',\n",
    "    'Jones': 'Terry', \n",
    "    'Palin': 'Micael',\n",
    "}\n",
    "\n",
    "print(pythons.get('Jin', 'No Key'))\n",
    "print(pythons.get('Chapman', 'No Key'))\n",
    "\n",
    "# 옵션값을 지정하지 않으면 None을 반환\n",
    "print(pythons.get('Jin'))"
   ]
  },
  {
   "cell_type": "markdown",
   "metadata": {},
   "source": [
    "#### 모든 키 얻기 `keys()`"
   ]
  },
  {
   "cell_type": "code",
   "execution_count": 232,
   "metadata": {},
   "outputs": [
    {
     "name": "stdout",
     "output_type": "stream",
     "text": [
      "dict_keys(['green', 'yellow', 'red'])\n",
      "['green', 'yellow', 'red']\n"
     ]
    }
   ],
   "source": [
    "signals = {'green': 'go', 'yellow': 'go faster', 'red': 'smile for the camera'}\n",
    "print(signals.keys())\n",
    "print(list(signals.keys()))"
   ]
  },
  {
   "cell_type": "markdown",
   "metadata": {},
   "source": [
    "#### 모든 값 얻기 `values()`"
   ]
  },
  {
   "cell_type": "code",
   "execution_count": 231,
   "metadata": {},
   "outputs": [
    {
     "name": "stdout",
     "output_type": "stream",
     "text": [
      "dict_values(['go', 'go faster', 'smile for the camera'])\n",
      "['go', 'go faster', 'smile for the camera']\n"
     ]
    }
   ],
   "source": [
    "signals = {'green': 'go', 'yellow': 'go faster', 'red': 'smile for the camera'}\n",
    "print(signals.values())\n",
    "print(list(signals.values()))"
   ]
  },
  {
   "cell_type": "markdown",
   "metadata": {},
   "source": [
    "#### 모든 쌍의 키와 값 얻기 `items()`"
   ]
  },
  {
   "cell_type": "code",
   "execution_count": 235,
   "metadata": {},
   "outputs": [
    {
     "name": "stdout",
     "output_type": "stream",
     "text": [
      "dict_items([('green', 'go'), ('yellow', 'go faster'), ('red', 'smile for the camera')])\n",
      "[('green', 'go'), ('yellow', 'go faster'), ('red', 'smile for the camera')]\n"
     ]
    }
   ],
   "source": [
    "signals = {'green': 'go', 'yellow': 'go faster', 'red': 'smile for the camera'}\n",
    "print(signals.items())\n",
    "print(list(signals.items())) # 튜플로 반환"
   ]
  },
  {
   "cell_type": "markdown",
   "metadata": {},
   "source": [
    "#### 할당 `=`, 복사 `copy()`"
   ]
  },
  {
   "cell_type": "code",
   "execution_count": 237,
   "metadata": {},
   "outputs": [
    {
     "name": "stdout",
     "output_type": "stream",
     "text": [
      "{'green': 'go', 'yellow': 'go faster', 'red': 'smile for the camera', 'blue': 'confuse everyone'}\n",
      "{'green': 'go', 'yellow': 'go faster', 'red': 'smile for the camera'}\n"
     ]
    }
   ],
   "source": [
    "signals = {'green': 'go', 'yellow': 'go faster', 'red': 'smile for the camera'}\n",
    "\n",
    "original_signals = signals.copy()\n",
    "signals['blue'] = 'confuse everyone'\n",
    "\n",
    "print(signals)\n",
    "print(original_signals)"
   ]
  },
  {
   "cell_type": "markdown",
   "metadata": {},
   "source": [
    "## 셋 Set\n",
    "- 값은 버리고 키만 남은 딕셔너리와 같다 (순서가 없다)\n",
    "- 어떤 것이 존재하는지 여부만 판단하기 위해서는 셋을 사용\n",
    "- 키에 어떤 정보를 첨부해서 그 결과를 얻고 싶으면 딕셔너리를 사용\n",
    "- 중복된 값을 버린다\n",
    "- 오름차순으로 정렬한다\n",
    "\n",
    "\n",
    "- 형변환: `set()`\n",
    "- `for문`과 `in`연산자를 사용하여 값을 얻을 수 있다\n",
    "- 교집합: `&`, `a.intersection(b)`\n",
    "- 합집합: `|`, `a.union(b)`\n",
    "- 차집합: `-`, `a.difference(b)` (첫번째 셋에는 있지만 두번째 셋에는 없는 멤버)\n",
    "- 대칭차집합: `^`, `a.symetric_difference(b)` (한쪽 셋에는 들어있지만 양쪽 모두에 들어있지 않은 멤버)\n",
    "- 부분집합: `<=`, `a.issubset(b)` (Boolean값 반환)\n",
    "- 진부분집합: `<` (Boolean값 반환)\n",
    "- 슈퍼셋: `>=`, `a.issuperset(b)` (Boolean값 반환) (모든 셋은 자기 자신의 슈퍼셋이다)\n",
    "- 프로퍼슈퍼셋: `>` (Boolean값 반환) (모든 셋은 자신의 프로퍼 슈퍼셋이 될 수 없다)"
   ]
  },
  {
   "cell_type": "markdown",
   "metadata": {},
   "source": [
    "#### 셋 생성"
   ]
  },
  {
   "cell_type": "code",
   "execution_count": null,
   "metadata": {},
   "outputs": [],
   "source": [
    "empty_set = set()\n",
    "print(empty_set)"
   ]
  },
  {
   "cell_type": "code",
   "execution_count": 4,
   "metadata": {},
   "outputs": [
    {
     "name": "stdout",
     "output_type": "stream",
     "text": [
      "{0, 2, 4, 6, 8}\n",
      "{1, 3, 5, 7, 9}\n"
     ]
    }
   ],
   "source": [
    "even_numbers = {0, 2, 4, 6, 8}\n",
    "odd_numbers = {1, 3, 5, 7, 9}\n",
    "\n",
    "print(even_numbers)\n",
    "print(odd_numbers)"
   ]
  },
  {
   "cell_type": "markdown",
   "metadata": {},
   "source": [
    "#### 형변환"
   ]
  },
  {
   "cell_type": "code",
   "execution_count": 5,
   "metadata": {},
   "outputs": [
    {
     "data": {
      "text/plain": [
       "{'e', 'l', 'r', 's', 't'}"
      ]
     },
     "execution_count": 5,
     "metadata": {},
     "output_type": "execute_result"
    }
   ],
   "source": [
    "set('letters') # 중복된 값 e와 t를 버린다"
   ]
  },
  {
   "cell_type": "code",
   "execution_count": 6,
   "metadata": {},
   "outputs": [
    {
     "data": {
      "text/plain": [
       "{'Dancer', 'Dasher', 'Mason-Dixon', 'Prancer'}"
      ]
     },
     "execution_count": 6,
     "metadata": {},
     "output_type": "execute_result"
    }
   ],
   "source": [
    "# 리스트 → 셋\n",
    "set(['Dasher', 'Dancer', 'Prancer', 'Mason-Dixon']) # 알파벳 오름차순으로 정렬"
   ]
  },
  {
   "cell_type": "code",
   "execution_count": 8,
   "metadata": {},
   "outputs": [
    {
     "data": {
      "text/plain": [
       "{'Atom Heart Mother', 'Echoes', 'Ummagumma'}"
      ]
     },
     "execution_count": 8,
     "metadata": {},
     "output_type": "execute_result"
    }
   ],
   "source": [
    "# 튜플 → 셋\n",
    "set(('Ummagumma', 'Echoes', 'Atom Heart Mother'))"
   ]
  },
  {
   "cell_type": "code",
   "execution_count": 9,
   "metadata": {},
   "outputs": [
    {
     "data": {
      "text/plain": [
       "{'apple', 'cherry', 'orange'}"
      ]
     },
     "execution_count": 9,
     "metadata": {},
     "output_type": "execute_result"
    }
   ],
   "source": [
    "# 딕셔너리 → 셋 (키 값만 반환)\n",
    "set({'apple': 'red', 'orange': 'orange', 'cherry': 'red'})"
   ]
  },
  {
   "cell_type": "markdown",
   "metadata": {},
   "source": [
    "#### `for`와 `in`으로 값 얻기"
   ]
  },
  {
   "cell_type": "code",
   "execution_count": 11,
   "metadata": {},
   "outputs": [
    {
     "name": "stdout",
     "output_type": "stream",
     "text": [
      "martini\n",
      "{'vodka', 'vermouth'}\n",
      "black russian\n",
      "{'vodka', 'kahlua'}\n",
      "white russian\n",
      "{'vodka', 'kahlua', 'cream'}\n",
      "screwdriver\n",
      "{'vodka', 'orange juice'}\n"
     ]
    }
   ],
   "source": [
    "drinks = {\n",
    "    'martini': {'vodka', 'vermouth'},\n",
    "    'black russian': {'vodka', 'kahlua'},\n",
    "    'white russian': {'cream', 'kahlua', 'vodka'},\n",
    "    'manhattan': {'ryu', 'vermouth', 'bitters'},\n",
    "    'screwdriver': {'orange juice', 'vodka'}\n",
    "}\n",
    "\n",
    "for name, contents in drinks.items():\n",
    "    if 'vodka' in contents:\n",
    "        print(name)\n",
    "        print(contents)"
   ]
  },
  {
   "cell_type": "code",
   "execution_count": 12,
   "metadata": {},
   "outputs": [
    {
     "name": "stdout",
     "output_type": "stream",
     "text": [
      "black russian\n",
      "screwdriver\n"
     ]
    }
   ],
   "source": [
    "for name, contents in drinks.items():\n",
    "    if 'vodka' in contents and not ('vermouth' in contents or 'cream' in contents):\n",
    "        print(name)"
   ]
  },
  {
   "cell_type": "markdown",
   "metadata": {},
   "source": [
    "#### 교집합: 셋 인터섹터 연산자 `intersection()`와 `&`"
   ]
  },
  {
   "cell_type": "code",
   "execution_count": 29,
   "metadata": {},
   "outputs": [
    {
     "name": "stdout",
     "output_type": "stream",
     "text": [
      "martini\n",
      "manhattan\n",
      "screwdriver\n",
      "martini\n",
      "manhattan\n",
      "screwdriver\n"
     ]
    }
   ],
   "source": [
    "drinks = {\n",
    "    'martini': {'vodka', 'vermouth'},\n",
    "    'black russian': {'vodka', 'kahlua'},\n",
    "    'white russian': {'cream', 'kahlua', 'vodka'},\n",
    "    'manhattan': {'ryu', 'vermouth', 'bitters'},\n",
    "    'screwdriver': {'orange juice', 'vodka'}\n",
    "}\n",
    "\n",
    "# vermouth와 orange juice가 포함된 음료의 키 값 출력\n",
    "for name, contents in drinks.items():\n",
    "    if contents & {'vermouth', 'orange juice'}:\n",
    "        print(name)\n",
    "\n",
    "for name, contents in drinks.items():\n",
    "    if 'vermouth' in contents or 'orange juice' in contents:\n",
    "        print(name)"
   ]
  },
  {
   "cell_type": "code",
   "execution_count": 23,
   "metadata": {},
   "outputs": [],
   "source": [
    "# 만약 contents에 두 재료가 없다면, False로 간주되는 빈 셋을 반환\n",
    "for name, contents in drinks.items():\n",
    "    if contents & {'apple', 'rum'}:\n",
    "        print(name)"
   ]
  },
  {
   "cell_type": "code",
   "execution_count": 30,
   "metadata": {},
   "outputs": [
    {
     "name": "stdout",
     "output_type": "stream",
     "text": [
      "black russian\n",
      "screwdriver\n"
     ]
    }
   ],
   "source": [
    "for name, contents in drinks.items():\n",
    "    if 'vodka' in contents and not contents & {'vermouth', 'cream'}:\n",
    "        print(name)"
   ]
  },
  {
   "cell_type": "code",
   "execution_count": 45,
   "metadata": {},
   "outputs": [
    {
     "name": "stdout",
     "output_type": "stream",
     "text": [
      "{2}\n",
      "{2}\n",
      "{'vodka', 'kahlua'}\n",
      "{'vodka', 'kahlua'}\n"
     ]
    }
   ],
   "source": [
    "drinks = {\n",
    "    'martini': {'vodka', 'vermouth'},\n",
    "    'black russian': {'vodka', 'kahlua'},\n",
    "    'white russian': {'cream', 'kahlua', 'vodka'},\n",
    "    'manhattan': {'ryu', 'vermouth', 'bitters'},\n",
    "    'screwdriver': {'orange juice', 'vodka'}\n",
    "}\n",
    "\n",
    "# 두 음료의 재료 셋을 변수에 저장\n",
    "bruss = drinks['black russian']\n",
    "wruss = drinks['white russian']\n",
    "\n",
    "a = {1, 2}\n",
    "b = {2, 3}\n",
    "\n",
    "print(a & b)\n",
    "print(a.intersection(b))\n",
    "\n",
    "print(bruss & wruss)\n",
    "print(bruss.intersection(wruss))"
   ]
  },
  {
   "cell_type": "markdown",
   "metadata": {},
   "source": [
    "#### 합집합: `|`, `union()`"
   ]
  },
  {
   "cell_type": "code",
   "execution_count": 46,
   "metadata": {},
   "outputs": [
    {
     "name": "stdout",
     "output_type": "stream",
     "text": [
      "{1, 2, 3}\n",
      "{1, 2, 3}\n",
      "{'kahlua', 'cream', 'vodka'}\n",
      "{'kahlua', 'cream', 'vodka'}\n"
     ]
    }
   ],
   "source": [
    "print(a | b)\n",
    "print(a.union(b))\n",
    "\n",
    "print(bruss | wruss)\n",
    "print(bruss.union(wruss))"
   ]
  },
  {
   "cell_type": "markdown",
   "metadata": {},
   "source": [
    "#### 차집합: `-`, `difference()`"
   ]
  },
  {
   "cell_type": "code",
   "execution_count": 47,
   "metadata": {},
   "outputs": [
    {
     "name": "stdout",
     "output_type": "stream",
     "text": [
      "{1}\n",
      "{1}\n",
      "set()\n",
      "set()\n"
     ]
    }
   ],
   "source": [
    "print(a - b)\n",
    "print(a.difference(b))\n",
    "\n",
    "print(bruss - wruss)\n",
    "print(bruss.difference(wruss))"
   ]
  },
  {
   "cell_type": "markdown",
   "metadata": {},
   "source": [
    "#### 대칭차집합: `^`, `symmetric_difference()`"
   ]
  },
  {
   "cell_type": "code",
   "execution_count": 51,
   "metadata": {},
   "outputs": [
    {
     "name": "stdout",
     "output_type": "stream",
     "text": [
      "{1, 3}\n",
      "{1, 3}\n",
      "{'cream'}\n",
      "{'cream'}\n"
     ]
    }
   ],
   "source": [
    "print(a ^ b)\n",
    "print(a.symmetric_difference(b))\n",
    "\n",
    "print(bruss ^ wruss)\n",
    "print(bruss.symmetric_difference(wruss))"
   ]
  },
  {
   "cell_type": "markdown",
   "metadata": {},
   "source": [
    "#### 부분집합: `<=`, `issubset()`"
   ]
  },
  {
   "cell_type": "code",
   "execution_count": 57,
   "metadata": {},
   "outputs": [
    {
     "name": "stdout",
     "output_type": "stream",
     "text": [
      "False\n",
      "False\n",
      "True\n",
      "True\n"
     ]
    }
   ],
   "source": [
    "print(a <= b)\n",
    "print(a.issubset(b))\n",
    "\n",
    "print(bruss <= wruss)\n",
    "print(bruss.issubset(wruss))"
   ]
  },
  {
   "cell_type": "markdown",
   "metadata": {},
   "source": [
    "#### 진부분집합: `<`"
   ]
  },
  {
   "cell_type": "code",
   "execution_count": 58,
   "metadata": {},
   "outputs": [
    {
     "name": "stdout",
     "output_type": "stream",
     "text": [
      "False\n",
      "True\n"
     ]
    }
   ],
   "source": [
    "print(a < b)\n",
    "\n",
    "print(bruss < wruss)"
   ]
  },
  {
   "cell_type": "markdown",
   "metadata": {},
   "source": [
    "#### 슈퍼셋: `>=`, `issuperset()`"
   ]
  },
  {
   "cell_type": "code",
   "execution_count": 61,
   "metadata": {},
   "outputs": [
    {
     "name": "stdout",
     "output_type": "stream",
     "text": [
      "False\n",
      "True\n",
      "False\n"
     ]
    }
   ],
   "source": [
    "print( a >= b)\n",
    "\n",
    "# 모든 셋은 자기 자신의 슈퍼셋이다\n",
    "print( a >= a)\n",
    "\n",
    "print(a.issuperset(b))"
   ]
  },
  {
   "cell_type": "markdown",
   "metadata": {},
   "source": [
    "#### 프로퍼 슈퍼셋: `>`"
   ]
  },
  {
   "cell_type": "code",
   "execution_count": 63,
   "metadata": {},
   "outputs": [
    {
     "name": "stdout",
     "output_type": "stream",
     "text": [
      "False\n",
      "False\n"
     ]
    }
   ],
   "source": [
    "print(a > b)\n",
    "\n",
    "# 모든 셋은 자신의 프로퍼 슈퍼셋이 될 수 없다\n",
    "print(a > a)"
   ]
  },
  {
   "cell_type": "markdown",
   "metadata": {},
   "source": [
    "#### 자료구조 비교하기"
   ]
  },
  {
   "cell_type": "code",
   "execution_count": 67,
   "metadata": {},
   "outputs": [
    {
     "name": "stdout",
     "output_type": "stream",
     "text": [
      "Harpo\n",
      "Harpo\n",
      "harp\n"
     ]
    }
   ],
   "source": [
    "marx_list = ['Groucho', 'Chico', 'Harpo']\n",
    "marx_tuple = 'Groucho', 'Chico', 'Harpo'\n",
    "marx_dict = {'Groucho': 'banjo', 'Chico': 'piano', 'Harpo': 'harp'}\n",
    "\n",
    "print(marx_list[2])\n",
    "print(marx_tuple[2])\n",
    "print(marx_dict['Harpo'])"
   ]
  },
  {
   "cell_type": "markdown",
   "metadata": {},
   "source": [
    "#### 자료구조를 더 크게"
   ]
  },
  {
   "cell_type": "code",
   "execution_count": 72,
   "metadata": {},
   "outputs": [
    {
     "name": "stdout",
     "output_type": "stream",
     "text": [
      "(['Groucho', 'Chico', 'Harpo'], ['Chapman', 'Cleese', 'Gilliam', 'Jones', 'Palin'], ['Moe', 'Curly', 'Larry'])\n",
      "[['Groucho', 'Chico', 'Harpo'], ['Chapman', 'Cleese', 'Gilliam', 'Jones', 'Palin'], ['Moe', 'Curly', 'Larry']]\n",
      "{'Marxes': ['Groucho', 'Chico', 'Harpo'], 'Pythons': ['Chapman', 'Cleese', 'Gilliam', 'Jones', 'Palin'], 'Stooges': ['Moe', 'Curly', 'Larry']}\n"
     ]
    }
   ],
   "source": [
    "marxes = ['Groucho', 'Chico', 'Harpo']\n",
    "pythons = ['Chapman', 'Cleese', 'Gilliam', 'Jones', 'Palin']\n",
    "stooges = ['Moe', 'Curly', 'Larry']\n",
    "\n",
    "# 튜플의 각 요소는 리스트\n",
    "tuple_of_lists = marxes, pythons, stooges\n",
    "print(tuple_of_lists)\n",
    "\n",
    "# 세 리스트를 한 리스트에 포함 가능\n",
    "list_of_lists = [marxes, pythons, stooges]\n",
    "print(list_of_lists)\n",
    "\n",
    "# 딕셔너리는 불변이기 때문에 리스트, 딕셔너리, 셋은 다른 딕셔너리의 키가 될 수 없지만 튜플은 딕셔너리의 키가 될 수 있다\n",
    "dict_of_lists = {'Marxes': marxes, 'Pythons': pythons, 'Stooges': stooges}\n",
    "print(dict_of_lists)"
   ]
  },
  {
   "cell_type": "code",
   "execution_count": null,
   "metadata": {},
   "outputs": [],
   "source": []
  }
 ],
 "metadata": {
  "kernelspec": {
   "display_name": "Python 3",
   "language": "python",
   "name": "python3"
  },
  "language_info": {
   "codemirror_mode": {
    "name": "ipython",
    "version": 3
   },
   "file_extension": ".py",
   "mimetype": "text/x-python",
   "name": "python",
   "nbconvert_exporter": "python",
   "pygments_lexer": "ipython3",
   "version": "3.7.5"
  }
 },
 "nbformat": 4,
 "nbformat_minor": 2
}
