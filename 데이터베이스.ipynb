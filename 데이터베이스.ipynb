{
 "cells": [
  {
   "cell_type": "markdown",
   "metadata": {},
   "source": [
    "1. AWS EC2 인스턴스에 Mysql 설치\n",
    "2. 모델링\n",
    "3. SELECT 구문\n",
    "4. GROUP BY\n",
    "5.\n",
    "6.\n",
    "7. Functions\n",
    "8. JOIN, UNION\n",
    "9. Sub-Query\n",
    "10. View\n",
    "11. Index\n",
    "12. SQLAlchemy"
   ]
  },
  {
   "cell_type": "markdown",
   "metadata": {},
   "source": [
    "- DB(Database): 데이터를 통합하여 관리하는 데이터의 집합\n",
    "- DBMS(Database Management System): 데이터베이스를 관리하는 미들웨어 시스템, 데이터 베이스 관리 시스템 (데이터를 가져오는 것은 빠르지만 insert가 느림)\n",
    "- RDBMS(Relational Database Management System): 데이터 테이블 사이에 키 값으로 관계를 가지고 있는 데이터베이스 (Oracle, Mysql, Postgresal, Sqlite)\n",
    "- NoSQL: 데이터테이블 사이의 관계가 없이 데이터를 저장하는 데이터베이스. 데이터 사이의 관계가 없으므로 복잡성이 작고 많은 데이터의 저장이 가능 (MongoDB, Hbase, Cassandra) (관계가 없기 때문에 데이터를 가져오는 것은 느리지만 insert는 빠름, scheme를 생각할 필요 없음)"
   ]
  },
  {
   "cell_type": "markdown",
   "metadata": {},
   "source": [
    "### MySQL 특징\n",
    "- 오픈소스\n",
    "- 다중 사용자와 다중 스레드 지원\n",
    "- 다양한 운영체제에 다양한 프로그래밍 언어 지원\n",
    "- 표준 SQL 사용\n",
    "- 작고 강력하며 가격이 저렴\n"
   ]
  },
  {
   "cell_type": "markdown",
   "metadata": {},
   "source": [
    "rw-------\n",
    "(rw-) root 권한\n",
    "(---) group 권한\n",
    "(---) 개인 권한"
   ]
  },
  {
   "cell_type": "markdown",
   "metadata": {},
   "source": [
    "DML\n",
    "Transaction: 명령이나 코드가 실행되는 하나의 단위\n",
    "    "
   ]
  },
  {
   "cell_type": "markdown",
   "metadata": {},
   "source": [
    "#### 1. country 테이블에서 중복을 제거한 Continent를 조회하세요."
   ]
  },
  {
   "cell_type": "code",
   "execution_count": null,
   "metadata": {},
   "outputs": [],
   "source": [
    "select continent\n",
    "from country"
   ]
  },
  {
   "cell_type": "code",
   "execution_count": 1,
   "metadata": {},
   "outputs": [
    {
     "ename": "SyntaxError",
     "evalue": "invalid syntax (<ipython-input-1-39eded014e7e>, line 1)",
     "output_type": "error",
     "traceback": [
      "\u001b[0;36m  File \u001b[0;32m\"<ipython-input-1-39eded014e7e>\"\u001b[0;36m, line \u001b[0;32m1\u001b[0m\n\u001b[0;31m    select distinct continent\u001b[0m\n\u001b[0m                  ^\u001b[0m\n\u001b[0;31mSyntaxError\u001b[0m\u001b[0;31m:\u001b[0m invalid syntax\n"
     ]
    }
   ],
   "source": [
    "select count(distinct (continent)) as continent_count\n",
    "from country"
   ]
  },
  {
   "cell_type": "code",
   "execution_count": 2,
   "metadata": {},
   "outputs": [
    {
     "ename": "SyntaxError",
     "evalue": "invalid syntax (<ipython-input-2-017e40ea91b5>, line 2)",
     "output_type": "error",
     "traceback": [
      "\u001b[0;36m  File \u001b[0;32m\"<ipython-input-2-017e40ea91b5>\"\u001b[0;36m, line \u001b[0;32m2\u001b[0m\n\u001b[0;31m    use sakila;\u001b[0m\n\u001b[0m             ^\u001b[0m\n\u001b[0;31mSyntaxError\u001b[0m\u001b[0;31m:\u001b[0m invalid syntax\n"
     ]
    }
   ],
   "source": [
    "# Sakila 데이터 베이스에서 국가가 인도 고객의 수를 출력하세요.\n",
    "use sakila;\n",
    "\n",
    "select country, count(country) as count\n",
    "from customer_list\n",
    "where country = 'India';"
   ]
  },
  {
   "cell_type": "code",
   "execution_count": 3,
   "metadata": {},
   "outputs": [
    {
     "ename": "SyntaxError",
     "evalue": "invalid syntax (<ipython-input-3-cbec90ea7205>, line 2)",
     "output_type": "error",
     "traceback": [
      "\u001b[0;36m  File \u001b[0;32m\"<ipython-input-3-cbec90ea7205>\"\u001b[0;36m, line \u001b[0;32m2\u001b[0m\n\u001b[0;31m    select name, population\u001b[0m\n\u001b[0m              ^\u001b[0m\n\u001b[0;31mSyntaxError\u001b[0m\u001b[0;31m:\u001b[0m invalid syntax\n"
     ]
    }
   ],
   "source": [
    "# 3. 한국 도시중에 인구가 100만이 넘는 도시를 조회하여 인구순으로 내림차순하세요.\n",
    "select name, population\n",
    "from city\n",
    "where countrycode = 'KOR' and population > 1000000"
   ]
  },
  {
   "cell_type": "code",
   "execution_count": 4,
   "metadata": {},
   "outputs": [
    {
     "ename": "SyntaxError",
     "evalue": "invalid syntax (<ipython-input-4-9236d66e2081>, line 2)",
     "output_type": "error",
     "traceback": [
      "\u001b[0;36m  File \u001b[0;32m\"<ipython-input-4-9236d66e2081>\"\u001b[0;36m, line \u001b[0;32m2\u001b[0m\n\u001b[0;31m    select name, CountryCode, Population\u001b[0m\n\u001b[0m              ^\u001b[0m\n\u001b[0;31mSyntaxError\u001b[0m\u001b[0;31m:\u001b[0m invalid syntax\n"
     ]
    }
   ],
   "source": [
    "# 4. city 테이블에서 population이 800만 ~ 1000만 사이인 도시 데이터를 인구수순으로 내림차순하세요.\n",
    "select name, CountryCode, Population\n",
    "from city\n",
    "where population between 8000000 and 10000000 \n",
    "order by population desc"
   ]
  },
  {
   "cell_type": "code",
   "execution_count": 5,
   "metadata": {},
   "outputs": [
    {
     "ename": "SyntaxError",
     "evalue": "invalid syntax (<ipython-input-5-020670c6f6b5>, line 1)",
     "output_type": "error",
     "traceback": [
      "\u001b[0;36m  File \u001b[0;32m\"<ipython-input-5-020670c6f6b5>\"\u001b[0;36m, line \u001b[0;32m1\u001b[0m\n\u001b[0;31m    select 10 as number\u001b[0m\n\u001b[0m            ^\u001b[0m\n\u001b[0;31mSyntaxError\u001b[0m\u001b[0;31m:\u001b[0m invalid syntax\n"
     ]
    }
   ],
   "source": [
    "select 10 as number\n",
    "from dual "
   ]
  },
  {
   "cell_type": "code",
   "execution_count": 6,
   "metadata": {},
   "outputs": [
    {
     "ename": "SyntaxError",
     "evalue": "invalid syntax (<ipython-input-6-8d26700e6d5b>, line 1)",
     "output_type": "error",
     "traceback": [
      "\u001b[0;36m  File \u001b[0;32m\"<ipython-input-6-8d26700e6d5b>\"\u001b[0;36m, line \u001b[0;32m1\u001b[0m\n\u001b[0;31m    select 10 as number, 10/5 as div_number\u001b[0m\n\u001b[0m            ^\u001b[0m\n\u001b[0;31mSyntaxError\u001b[0m\u001b[0;31m:\u001b[0m invalid syntax\n"
     ]
    }
   ],
   "source": [
    "select 10 as number, 10/5 as div_number\n",
    "from dual"
   ]
  },
  {
   "cell_type": "code",
   "execution_count": 7,
   "metadata": {},
   "outputs": [
    {
     "ename": "SyntaxError",
     "evalue": "invalid syntax (<ipython-input-7-8e60915cf42a>, line 2)",
     "output_type": "error",
     "traceback": [
      "\u001b[0;36m  File \u001b[0;32m\"<ipython-input-7-8e60915cf42a>\"\u001b[0;36m, line \u001b[0;32m2\u001b[0m\n\u001b[0;31m    select code, name, population, GNP, GNP/population*100 as gpp\u001b[0m\n\u001b[0m              ^\u001b[0m\n\u001b[0;31mSyntaxError\u001b[0m\u001b[0;31m:\u001b[0m invalid syntax\n"
     ]
    }
   ],
   "source": [
    "# 국가 데이터에서 인구당 GNP 순위를 내림차순으로 출력\n",
    "select code, name, population, GNP, GNP/population*100 as gpp\n",
    "from country\n",
    "order by gpp desc"
   ]
  },
  {
   "cell_type": "code",
   "execution_count": 8,
   "metadata": {},
   "outputs": [
    {
     "ename": "SyntaxError",
     "evalue": "invalid syntax (<ipython-input-8-1011d8760a8a>, line 4)",
     "output_type": "error",
     "traceback": [
      "\u001b[0;36m  File \u001b[0;32m\"<ipython-input-8-1011d8760a8a>\"\u001b[0;36m, line \u001b[0;32m4\u001b[0m\n\u001b[0;31m    select countryCode, count(countryCode)\u001b[0m\n\u001b[0m                     ^\u001b[0m\n\u001b[0;31mSyntaxError\u001b[0m\u001b[0;31m:\u001b[0m invalid syntax\n"
     ]
    }
   ],
   "source": [
    "# group by: count(), max(), min(), avg(), var_samp(), stddev()\n",
    "\n",
    "# city 테이블에서 국가별 도시의 갯수 출력\n",
    "select countryCode, count(countryCode)\n",
    "from city\n",
    "group by countryCode "
   ]
  },
  {
   "cell_type": "code",
   "execution_count": 9,
   "metadata": {},
   "outputs": [
    {
     "ename": "SyntaxError",
     "evalue": "invalid syntax (<ipython-input-9-c04ab5a77a5a>, line 2)",
     "output_type": "error",
     "traceback": [
      "\u001b[0;36m  File \u001b[0;32m\"<ipython-input-9-c04ab5a77a5a>\"\u001b[0;36m, line \u001b[0;32m2\u001b[0m\n\u001b[0;31m    select continent, max(population), max(GNP)\u001b[0m\n\u001b[0m                   ^\u001b[0m\n\u001b[0;31mSyntaxError\u001b[0m\u001b[0;31m:\u001b[0m invalid syntax\n"
     ]
    }
   ],
   "source": [
    "# 대륙별 인구수와 GNP 최댓값을 조회\n",
    "select continent, max(population), max(GNP)\n",
    "from country\n",
    "group by continent"
   ]
  },
  {
   "cell_type": "code",
   "execution_count": 10,
   "metadata": {},
   "outputs": [
    {
     "ename": "SyntaxError",
     "evalue": "invalid syntax (<ipython-input-10-e0866ead80e5>, line 2)",
     "output_type": "error",
     "traceback": [
      "\u001b[0;36m  File \u001b[0;32m\"<ipython-input-10-e0866ead80e5>\"\u001b[0;36m, line \u001b[0;32m2\u001b[0m\n\u001b[0;31m    select continent, avg(population), min(GNP)\u001b[0m\n\u001b[0m                   ^\u001b[0m\n\u001b[0;31mSyntaxError\u001b[0m\u001b[0;31m:\u001b[0m invalid syntax\n"
     ]
    }
   ],
   "source": [
    "# 대륙별 인구수와 GNP 최솟값을 조회\n",
    "select continent, avg(population), min(GNP)\n",
    "from country\n",
    "where GNP > 0\n",
    "group by continent"
   ]
  },
  {
   "cell_type": "code",
   "execution_count": 12,
   "metadata": {},
   "outputs": [
    {
     "ename": "IndentationError",
     "evalue": "unindent does not match any outer indentation level (<tokenize>, line 4)",
     "output_type": "error",
     "traceback": [
      "\u001b[0;36m  File \u001b[0;32m\"<tokenize>\"\u001b[0;36m, line \u001b[0;32m4\u001b[0m\n\u001b[0;31m    , min(GNP) as min_gnp\u001b[0m\n\u001b[0m    ^\u001b[0m\n\u001b[0;31mIndentationError\u001b[0m\u001b[0;31m:\u001b[0m unindent does not match any outer indentation level\n"
     ]
    }
   ],
   "source": [
    "# 대륙별 인구수와 GNP 최댓값을 조회\n",
    "select continent\n",
    "\t, avg(population) as avg_population\n",
    "    , min(GNP) as min_gnp\n",
    "from country\n",
    "where GNP > 0\n",
    "group by continent\n",
    "having min_gnp > 100\n",
    "order by min_gnp desc\n",
    "limit 1"
   ]
  },
  {
   "cell_type": "code",
   "execution_count": null,
   "metadata": {},
   "outputs": [],
   "source": [
    "# 고객과 스탭별 매출과 고객별 매출 총합\n",
    "select customer_id, staff_id, sum(amount)\n",
    "from payment\n",
    "group by customer_id, staff_id\n",
    "with rollup"
   ]
  }
 ],
 "metadata": {
  "kernelspec": {
   "display_name": "Python 3",
   "language": "python",
   "name": "python3"
  },
  "language_info": {
   "codemirror_mode": {
    "name": "ipython",
    "version": 3
   },
   "file_extension": ".py",
   "mimetype": "text/x-python",
   "name": "python",
   "nbconvert_exporter": "python",
   "pygments_lexer": "ipython3",
   "version": "3.7.5"
  }
 },
 "nbformat": 4,
 "nbformat_minor": 2
}
